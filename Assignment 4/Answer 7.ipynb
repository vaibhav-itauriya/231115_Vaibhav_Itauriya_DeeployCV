{
 "cells": [
  {
   "cell_type": "markdown",
   "metadata": {},
   "source": [
    "## Answer 7\n",
    "### Model to Classify Iris Flowers"
   ]
  },
  {
   "cell_type": "markdown",
   "metadata": {},
   "source": [
    "#### Task 1 - Data Loading and Preprocessing:"
   ]
  },
  {
   "cell_type": "markdown",
   "metadata": {},
   "source": [
    "Importing required libraries"
   ]
  },
  {
   "cell_type": "code",
   "execution_count": 1,
   "metadata": {
    "ExecuteTime": {
     "end_time": "2024-12-28T18:08:49.256124Z",
     "start_time": "2024-12-28T18:08:49.199683Z"
    }
   },
   "outputs": [],
   "source": [
    "from sklearn.datasets import load_iris\n",
    "from sklearn.model_selection import train_test_split\n",
    "from sklearn.preprocessing import StandardScaler\n",
    "from tensorflow.keras.utils import to_categorical\n",
    "from tensorflow.keras.models import Sequential\n",
    "from tensorflow.keras.layers import Dense\n",
    "import pandas as pd\n",
    "import numpy as np"
   ]
  },
  {
   "cell_type": "markdown",
   "metadata": {},
   "source": [
    "Usign code snippet given in question to load iris dataset"
   ]
  },
  {
   "cell_type": "code",
   "execution_count": 2,
   "metadata": {},
   "outputs": [],
   "source": [
    "iris = load_iris()\n",
    "X = iris.data\n",
    "y = iris.target"
   ]
  },
  {
   "cell_type": "markdown",
   "metadata": {},
   "source": [
    "Visualize some samples"
   ]
  },
  {
   "cell_type": "markdown",
   "metadata": {},
   "source": [
    "Create a DataFrame"
   ]
  },
  {
   "cell_type": "code",
   "execution_count": 3,
   "metadata": {},
   "outputs": [],
   "source": [
    "iris_df = pd.DataFrame(\n",
    "    data=X, \n",
    "    columns=[\"Sepal Length (cm)\", \"Sepal Width (cm)\", \"Petal Length (cm)\", \"Petal Width (cm)\"]\n",
    ")\n",
    "iris_df[\"Class Label\"] = [iris.target_names[label] for label in y]"
   ]
  },
  {
   "cell_type": "markdown",
   "metadata": {},
   "source": [
    "Select 10 random samples to display"
   ]
  },
  {
   "cell_type": "code",
   "execution_count": 4,
   "metadata": {},
   "outputs": [],
   "source": [
    "random_samples = iris_df.sample(10, random_state=42)"
   ]
  },
  {
   "cell_type": "markdown",
   "metadata": {},
   "source": [
    "Display the table with styling"
   ]
  },
  {
   "cell_type": "code",
   "execution_count": 5,
   "metadata": {},
   "outputs": [
    {
     "data": {
      "text/html": [
       "<style type=\"text/css\">\n",
       "#T_0616b thead {\n",
       "  background-color: #4682B4;\n",
       "  color: white;\n",
       "  font-weight: bold;\n",
       "}\n",
       "#T_0616b_row0_col4, #T_0616b_row3_col4, #T_0616b_row4_col4, #T_0616b_row6_col4, #T_0616b_row8_col4, #T_0616b_row9_col4 {\n",
       "  background-color: #085e1f;\n",
       "}\n",
       "#T_0616b_row1_col4, #T_0616b_row5_col4 {\n",
       "  background-color: #969624;\n",
       "}\n",
       "#T_0616b_row2_col4, #T_0616b_row7_col4 {\n",
       "  background-color: #2d596b;\n",
       "}\n",
       "</style>\n",
       "<table id=\"T_0616b\">\n",
       "  <caption>Random Samples from Iris Dataset</caption>\n",
       "  <thead>\n",
       "    <tr>\n",
       "      <th class=\"blank level0\" >&nbsp;</th>\n",
       "      <th id=\"T_0616b_level0_col0\" class=\"col_heading level0 col0\" >Sepal Length (cm)</th>\n",
       "      <th id=\"T_0616b_level0_col1\" class=\"col_heading level0 col1\" >Sepal Width (cm)</th>\n",
       "      <th id=\"T_0616b_level0_col2\" class=\"col_heading level0 col2\" >Petal Length (cm)</th>\n",
       "      <th id=\"T_0616b_level0_col3\" class=\"col_heading level0 col3\" >Petal Width (cm)</th>\n",
       "      <th id=\"T_0616b_level0_col4\" class=\"col_heading level0 col4\" >Class Label</th>\n",
       "    </tr>\n",
       "  </thead>\n",
       "  <tbody>\n",
       "    <tr>\n",
       "      <th id=\"T_0616b_level0_row0\" class=\"row_heading level0 row0\" >73</th>\n",
       "      <td id=\"T_0616b_row0_col0\" class=\"data row0 col0\" >6.100000</td>\n",
       "      <td id=\"T_0616b_row0_col1\" class=\"data row0 col1\" >2.800000</td>\n",
       "      <td id=\"T_0616b_row0_col2\" class=\"data row0 col2\" >4.700000</td>\n",
       "      <td id=\"T_0616b_row0_col3\" class=\"data row0 col3\" >1.200000</td>\n",
       "      <td id=\"T_0616b_row0_col4\" class=\"data row0 col4\" >versicolor</td>\n",
       "    </tr>\n",
       "    <tr>\n",
       "      <th id=\"T_0616b_level0_row1\" class=\"row_heading level0 row1\" >18</th>\n",
       "      <td id=\"T_0616b_row1_col0\" class=\"data row1 col0\" >5.700000</td>\n",
       "      <td id=\"T_0616b_row1_col1\" class=\"data row1 col1\" >3.800000</td>\n",
       "      <td id=\"T_0616b_row1_col2\" class=\"data row1 col2\" >1.700000</td>\n",
       "      <td id=\"T_0616b_row1_col3\" class=\"data row1 col3\" >0.300000</td>\n",
       "      <td id=\"T_0616b_row1_col4\" class=\"data row1 col4\" >setosa</td>\n",
       "    </tr>\n",
       "    <tr>\n",
       "      <th id=\"T_0616b_level0_row2\" class=\"row_heading level0 row2\" >118</th>\n",
       "      <td id=\"T_0616b_row2_col0\" class=\"data row2 col0\" >7.700000</td>\n",
       "      <td id=\"T_0616b_row2_col1\" class=\"data row2 col1\" >2.600000</td>\n",
       "      <td id=\"T_0616b_row2_col2\" class=\"data row2 col2\" >6.900000</td>\n",
       "      <td id=\"T_0616b_row2_col3\" class=\"data row2 col3\" >2.300000</td>\n",
       "      <td id=\"T_0616b_row2_col4\" class=\"data row2 col4\" >virginica</td>\n",
       "    </tr>\n",
       "    <tr>\n",
       "      <th id=\"T_0616b_level0_row3\" class=\"row_heading level0 row3\" >78</th>\n",
       "      <td id=\"T_0616b_row3_col0\" class=\"data row3 col0\" >6.000000</td>\n",
       "      <td id=\"T_0616b_row3_col1\" class=\"data row3 col1\" >2.900000</td>\n",
       "      <td id=\"T_0616b_row3_col2\" class=\"data row3 col2\" >4.500000</td>\n",
       "      <td id=\"T_0616b_row3_col3\" class=\"data row3 col3\" >1.500000</td>\n",
       "      <td id=\"T_0616b_row3_col4\" class=\"data row3 col4\" >versicolor</td>\n",
       "    </tr>\n",
       "    <tr>\n",
       "      <th id=\"T_0616b_level0_row4\" class=\"row_heading level0 row4\" >76</th>\n",
       "      <td id=\"T_0616b_row4_col0\" class=\"data row4 col0\" >6.800000</td>\n",
       "      <td id=\"T_0616b_row4_col1\" class=\"data row4 col1\" >2.800000</td>\n",
       "      <td id=\"T_0616b_row4_col2\" class=\"data row4 col2\" >4.800000</td>\n",
       "      <td id=\"T_0616b_row4_col3\" class=\"data row4 col3\" >1.400000</td>\n",
       "      <td id=\"T_0616b_row4_col4\" class=\"data row4 col4\" >versicolor</td>\n",
       "    </tr>\n",
       "    <tr>\n",
       "      <th id=\"T_0616b_level0_row5\" class=\"row_heading level0 row5\" >31</th>\n",
       "      <td id=\"T_0616b_row5_col0\" class=\"data row5 col0\" >5.400000</td>\n",
       "      <td id=\"T_0616b_row5_col1\" class=\"data row5 col1\" >3.400000</td>\n",
       "      <td id=\"T_0616b_row5_col2\" class=\"data row5 col2\" >1.500000</td>\n",
       "      <td id=\"T_0616b_row5_col3\" class=\"data row5 col3\" >0.400000</td>\n",
       "      <td id=\"T_0616b_row5_col4\" class=\"data row5 col4\" >setosa</td>\n",
       "    </tr>\n",
       "    <tr>\n",
       "      <th id=\"T_0616b_level0_row6\" class=\"row_heading level0 row6\" >64</th>\n",
       "      <td id=\"T_0616b_row6_col0\" class=\"data row6 col0\" >5.600000</td>\n",
       "      <td id=\"T_0616b_row6_col1\" class=\"data row6 col1\" >2.900000</td>\n",
       "      <td id=\"T_0616b_row6_col2\" class=\"data row6 col2\" >3.600000</td>\n",
       "      <td id=\"T_0616b_row6_col3\" class=\"data row6 col3\" >1.300000</td>\n",
       "      <td id=\"T_0616b_row6_col4\" class=\"data row6 col4\" >versicolor</td>\n",
       "    </tr>\n",
       "    <tr>\n",
       "      <th id=\"T_0616b_level0_row7\" class=\"row_heading level0 row7\" >141</th>\n",
       "      <td id=\"T_0616b_row7_col0\" class=\"data row7 col0\" >6.900000</td>\n",
       "      <td id=\"T_0616b_row7_col1\" class=\"data row7 col1\" >3.100000</td>\n",
       "      <td id=\"T_0616b_row7_col2\" class=\"data row7 col2\" >5.100000</td>\n",
       "      <td id=\"T_0616b_row7_col3\" class=\"data row7 col3\" >2.300000</td>\n",
       "      <td id=\"T_0616b_row7_col4\" class=\"data row7 col4\" >virginica</td>\n",
       "    </tr>\n",
       "    <tr>\n",
       "      <th id=\"T_0616b_level0_row8\" class=\"row_heading level0 row8\" >68</th>\n",
       "      <td id=\"T_0616b_row8_col0\" class=\"data row8 col0\" >6.200000</td>\n",
       "      <td id=\"T_0616b_row8_col1\" class=\"data row8 col1\" >2.200000</td>\n",
       "      <td id=\"T_0616b_row8_col2\" class=\"data row8 col2\" >4.500000</td>\n",
       "      <td id=\"T_0616b_row8_col3\" class=\"data row8 col3\" >1.500000</td>\n",
       "      <td id=\"T_0616b_row8_col4\" class=\"data row8 col4\" >versicolor</td>\n",
       "    </tr>\n",
       "    <tr>\n",
       "      <th id=\"T_0616b_level0_row9\" class=\"row_heading level0 row9\" >82</th>\n",
       "      <td id=\"T_0616b_row9_col0\" class=\"data row9 col0\" >5.800000</td>\n",
       "      <td id=\"T_0616b_row9_col1\" class=\"data row9 col1\" >2.700000</td>\n",
       "      <td id=\"T_0616b_row9_col2\" class=\"data row9 col2\" >3.900000</td>\n",
       "      <td id=\"T_0616b_row9_col3\" class=\"data row9 col3\" >1.200000</td>\n",
       "      <td id=\"T_0616b_row9_col4\" class=\"data row9 col4\" >versicolor</td>\n",
       "    </tr>\n",
       "  </tbody>\n",
       "</table>\n"
      ],
      "text/plain": [
       "<pandas.io.formats.style.Styler at 0x1f49a6e36b0>"
      ]
     },
     "execution_count": 5,
     "metadata": {},
     "output_type": "execute_result"
    }
   ],
   "source": [
    "def highlight_class(row):\n",
    "    \"\"\"Highlight the class labels with specific colors.\"\"\"\n",
    "    color_map = {\n",
    "        \"setosa\": \"background-color: #969624;\",  # Gold\n",
    "        \"versicolor\": \"background-color: #085e1f;\",  # GreenYellow\n",
    "        \"virginica\": \"background-color: #2d596b;\"   # SkyBlue\n",
    "    }\n",
    "    return [color_map[row[\"Class Label\"]] if col == \"Class Label\" else \"\" for col in row.index]\n",
    "\n",
    "styled_table = random_samples.style.apply(highlight_class, axis=1)\n",
    "styled_table.set_table_styles(\n",
    "    [{'selector': 'thead', 'props': [('background-color', '#4682B4'), ('color', 'white'), ('font-weight', 'bold')]}]\n",
    ")\n",
    "styled_table.set_caption(\"Random Samples from Iris Dataset\")"
   ]
  },
  {
   "cell_type": "markdown",
   "metadata": {},
   "source": [
    "Split the dataset into training and testing sets (20% split)"
   ]
  },
  {
   "cell_type": "code",
   "execution_count": 46,
   "metadata": {},
   "outputs": [],
   "source": [
    "X_train, X_test, y_train, y_test = train_test_split(X, y, test_size=0.7, random_state=42)"
   ]
  },
  {
   "cell_type": "markdown",
   "metadata": {},
   "source": [
    "Perform feature scaling"
   ]
  },
  {
   "cell_type": "code",
   "execution_count": 47,
   "metadata": {},
   "outputs": [],
   "source": [
    "scaler = StandardScaler()\n",
    "X_train = scaler.fit_transform(X_train)\n",
    "X_test = scaler.transform(X_test)"
   ]
  },
  {
   "cell_type": "markdown",
   "metadata": {},
   "source": [
    "One-hot encode the target labels"
   ]
  },
  {
   "cell_type": "code",
   "execution_count": 48,
   "metadata": {},
   "outputs": [],
   "source": [
    "y_train_encoded = to_categorical(y_train)\n",
    "y_test_encoded = to_categorical(y_test)\n"
   ]
  },
  {
   "cell_type": "markdown",
   "metadata": {},
   "source": [
    "#### Task 2 -  Neural Network Construction:"
   ]
  },
  {
   "cell_type": "markdown",
   "metadata": {},
   "source": [
    "Build the neural network"
   ]
  },
  {
   "cell_type": "code",
   "execution_count": 49,
   "metadata": {},
   "outputs": [
    {
     "name": "stderr",
     "output_type": "stream",
     "text": [
      "c:\\Users\\vaibh\\AppData\\Local\\Programs\\Python\\Python312\\Lib\\site-packages\\keras\\src\\layers\\core\\dense.py:87: UserWarning: Do not pass an `input_shape`/`input_dim` argument to a layer. When using Sequential models, prefer using an `Input(shape)` object as the first layer in the model instead.\n",
      "  super().__init__(activity_regularizer=activity_regularizer, **kwargs)\n"
     ]
    }
   ],
   "source": [
    "model = Sequential([\n",
    "    Dense(8, input_dim=4, activation='relu'),  # Input layer with 4 features and hidden layer with 8 neurons\n",
    "    Dense(3, activation='softmax')            # Output layer with 3 neurons for classification\n",
    "])"
   ]
  },
  {
   "cell_type": "markdown",
   "metadata": {},
   "source": [
    "Compile the model"
   ]
  },
  {
   "cell_type": "code",
   "execution_count": 50,
   "metadata": {},
   "outputs": [],
   "source": [
    "model.compile(optimizer='adam', loss='categorical_crossentropy', metrics=['accuracy'])"
   ]
  },
  {
   "cell_type": "markdown",
   "metadata": {},
   "source": [
    "Summary of the model"
   ]
  },
  {
   "cell_type": "code",
   "execution_count": 51,
   "metadata": {},
   "outputs": [
    {
     "data": {
      "text/html": [
       "<pre style=\"white-space:pre;overflow-x:auto;line-height:normal;font-family:Menlo,'DejaVu Sans Mono',consolas,'Courier New',monospace\"><span style=\"font-weight: bold\">Model: \"sequential_4\"</span>\n",
       "</pre>\n"
      ],
      "text/plain": [
       "\u001b[1mModel: \"sequential_4\"\u001b[0m\n"
      ]
     },
     "metadata": {},
     "output_type": "display_data"
    },
    {
     "data": {
      "text/html": [
       "<pre style=\"white-space:pre;overflow-x:auto;line-height:normal;font-family:Menlo,'DejaVu Sans Mono',consolas,'Courier New',monospace\">┏━━━━━━━━━━━━━━━━━━━━━━━━━━━━━━━━━┳━━━━━━━━━━━━━━━━━━━━━━━━┳━━━━━━━━━━━━━━━┓\n",
       "┃<span style=\"font-weight: bold\"> Layer (type)                    </span>┃<span style=\"font-weight: bold\"> Output Shape           </span>┃<span style=\"font-weight: bold\">       Param # </span>┃\n",
       "┡━━━━━━━━━━━━━━━━━━━━━━━━━━━━━━━━━╇━━━━━━━━━━━━━━━━━━━━━━━━╇━━━━━━━━━━━━━━━┩\n",
       "│ dense_8 (<span style=\"color: #0087ff; text-decoration-color: #0087ff\">Dense</span>)                 │ (<span style=\"color: #00d7ff; text-decoration-color: #00d7ff\">None</span>, <span style=\"color: #00af00; text-decoration-color: #00af00\">8</span>)              │            <span style=\"color: #00af00; text-decoration-color: #00af00\">40</span> │\n",
       "├─────────────────────────────────┼────────────────────────┼───────────────┤\n",
       "│ dense_9 (<span style=\"color: #0087ff; text-decoration-color: #0087ff\">Dense</span>)                 │ (<span style=\"color: #00d7ff; text-decoration-color: #00d7ff\">None</span>, <span style=\"color: #00af00; text-decoration-color: #00af00\">3</span>)              │            <span style=\"color: #00af00; text-decoration-color: #00af00\">27</span> │\n",
       "└─────────────────────────────────┴────────────────────────┴───────────────┘\n",
       "</pre>\n"
      ],
      "text/plain": [
       "┏━━━━━━━━━━━━━━━━━━━━━━━━━━━━━━━━━┳━━━━━━━━━━━━━━━━━━━━━━━━┳━━━━━━━━━━━━━━━┓\n",
       "┃\u001b[1m \u001b[0m\u001b[1mLayer (type)                   \u001b[0m\u001b[1m \u001b[0m┃\u001b[1m \u001b[0m\u001b[1mOutput Shape          \u001b[0m\u001b[1m \u001b[0m┃\u001b[1m \u001b[0m\u001b[1m      Param #\u001b[0m\u001b[1m \u001b[0m┃\n",
       "┡━━━━━━━━━━━━━━━━━━━━━━━━━━━━━━━━━╇━━━━━━━━━━━━━━━━━━━━━━━━╇━━━━━━━━━━━━━━━┩\n",
       "│ dense_8 (\u001b[38;5;33mDense\u001b[0m)                 │ (\u001b[38;5;45mNone\u001b[0m, \u001b[38;5;34m8\u001b[0m)              │            \u001b[38;5;34m40\u001b[0m │\n",
       "├─────────────────────────────────┼────────────────────────┼───────────────┤\n",
       "│ dense_9 (\u001b[38;5;33mDense\u001b[0m)                 │ (\u001b[38;5;45mNone\u001b[0m, \u001b[38;5;34m3\u001b[0m)              │            \u001b[38;5;34m27\u001b[0m │\n",
       "└─────────────────────────────────┴────────────────────────┴───────────────┘\n"
      ]
     },
     "metadata": {},
     "output_type": "display_data"
    },
    {
     "data": {
      "text/html": [
       "<pre style=\"white-space:pre;overflow-x:auto;line-height:normal;font-family:Menlo,'DejaVu Sans Mono',consolas,'Courier New',monospace\"><span style=\"font-weight: bold\"> Total params: </span><span style=\"color: #00af00; text-decoration-color: #00af00\">67</span> (268.00 B)\n",
       "</pre>\n"
      ],
      "text/plain": [
       "\u001b[1m Total params: \u001b[0m\u001b[38;5;34m67\u001b[0m (268.00 B)\n"
      ]
     },
     "metadata": {},
     "output_type": "display_data"
    },
    {
     "data": {
      "text/html": [
       "<pre style=\"white-space:pre;overflow-x:auto;line-height:normal;font-family:Menlo,'DejaVu Sans Mono',consolas,'Courier New',monospace\"><span style=\"font-weight: bold\"> Trainable params: </span><span style=\"color: #00af00; text-decoration-color: #00af00\">67</span> (268.00 B)\n",
       "</pre>\n"
      ],
      "text/plain": [
       "\u001b[1m Trainable params: \u001b[0m\u001b[38;5;34m67\u001b[0m (268.00 B)\n"
      ]
     },
     "metadata": {},
     "output_type": "display_data"
    },
    {
     "data": {
      "text/html": [
       "<pre style=\"white-space:pre;overflow-x:auto;line-height:normal;font-family:Menlo,'DejaVu Sans Mono',consolas,'Courier New',monospace\"><span style=\"font-weight: bold\"> Non-trainable params: </span><span style=\"color: #00af00; text-decoration-color: #00af00\">0</span> (0.00 B)\n",
       "</pre>\n"
      ],
      "text/plain": [
       "\u001b[1m Non-trainable params: \u001b[0m\u001b[38;5;34m0\u001b[0m (0.00 B)\n"
      ]
     },
     "metadata": {},
     "output_type": "display_data"
    }
   ],
   "source": [
    "model.summary()"
   ]
  },
  {
   "cell_type": "markdown",
   "metadata": {},
   "source": [
    "#### Task 3 - Model Compilation and Training"
   ]
  },
  {
   "cell_type": "markdown",
   "metadata": {},
   "source": [
    "Compile the model"
   ]
  },
  {
   "cell_type": "code",
   "execution_count": 52,
   "metadata": {},
   "outputs": [],
   "source": [
    "model.compile(optimizer='adam', loss='categorical_crossentropy', metrics=['accuracy'])"
   ]
  },
  {
   "cell_type": "markdown",
   "metadata": {},
   "source": [
    "Train the model"
   ]
  },
  {
   "cell_type": "code",
   "execution_count": 53,
   "metadata": {},
   "outputs": [
    {
     "name": "stdout",
     "output_type": "stream",
     "text": [
      "Epoch 1/100\n",
      "\u001b[1m9/9\u001b[0m \u001b[32m━━━━━━━━━━━━━━━━━━━━\u001b[0m\u001b[37m\u001b[0m \u001b[1m1s\u001b[0m 31ms/step - accuracy: 0.7660 - loss: 0.8258 - val_accuracy: 0.7524 - val_loss: 0.8235\n",
      "Epoch 2/100\n",
      "\u001b[1m9/9\u001b[0m \u001b[32m━━━━━━━━━━━━━━━━━━━━\u001b[0m\u001b[37m\u001b[0m \u001b[1m0s\u001b[0m 13ms/step - accuracy: 0.7571 - loss: 0.8152 - val_accuracy: 0.7714 - val_loss: 0.8018\n",
      "Epoch 3/100\n",
      "\u001b[1m9/9\u001b[0m \u001b[32m━━━━━━━━━━━━━━━━━━━━\u001b[0m\u001b[37m\u001b[0m \u001b[1m0s\u001b[0m 14ms/step - accuracy: 0.7610 - loss: 0.8350 - val_accuracy: 0.7524 - val_loss: 0.7815\n",
      "Epoch 4/100\n",
      "\u001b[1m9/9\u001b[0m \u001b[32m━━━━━━━━━━━━━━━━━━━━\u001b[0m\u001b[37m\u001b[0m \u001b[1m0s\u001b[0m 14ms/step - accuracy: 0.8609 - loss: 0.7456 - val_accuracy: 0.7810 - val_loss: 0.7610\n",
      "Epoch 5/100\n",
      "\u001b[1m9/9\u001b[0m \u001b[32m━━━━━━━━━━━━━━━━━━━━\u001b[0m\u001b[37m\u001b[0m \u001b[1m0s\u001b[0m 13ms/step - accuracy: 0.8773 - loss: 0.7685 - val_accuracy: 0.8095 - val_loss: 0.7415\n",
      "Epoch 6/100\n",
      "\u001b[1m9/9\u001b[0m \u001b[32m━━━━━━━━━━━━━━━━━━━━\u001b[0m\u001b[37m\u001b[0m \u001b[1m0s\u001b[0m 13ms/step - accuracy: 0.8196 - loss: 0.7574 - val_accuracy: 0.8095 - val_loss: 0.7230\n",
      "Epoch 7/100\n",
      "\u001b[1m9/9\u001b[0m \u001b[32m━━━━━━━━━━━━━━━━━━━━\u001b[0m\u001b[37m\u001b[0m \u001b[1m0s\u001b[0m 13ms/step - accuracy: 0.8483 - loss: 0.7129 - val_accuracy: 0.8095 - val_loss: 0.7044\n",
      "Epoch 8/100\n",
      "\u001b[1m9/9\u001b[0m \u001b[32m━━━━━━━━━━━━━━━━━━━━\u001b[0m\u001b[37m\u001b[0m \u001b[1m0s\u001b[0m 13ms/step - accuracy: 0.8033 - loss: 0.7083 - val_accuracy: 0.8190 - val_loss: 0.6868\n",
      "Epoch 9/100\n",
      "\u001b[1m9/9\u001b[0m \u001b[32m━━━━━━━━━━━━━━━━━━━━\u001b[0m\u001b[37m\u001b[0m \u001b[1m0s\u001b[0m 14ms/step - accuracy: 0.8531 - loss: 0.7354 - val_accuracy: 0.8190 - val_loss: 0.6696\n",
      "Epoch 10/100\n",
      "\u001b[1m9/9\u001b[0m \u001b[32m━━━━━━━━━━━━━━━━━━━━\u001b[0m\u001b[37m\u001b[0m \u001b[1m0s\u001b[0m 13ms/step - accuracy: 0.8561 - loss: 0.6604 - val_accuracy: 0.8190 - val_loss: 0.6527\n",
      "Epoch 11/100\n",
      "\u001b[1m9/9\u001b[0m \u001b[32m━━━━━━━━━━━━━━━━━━━━\u001b[0m\u001b[37m\u001b[0m \u001b[1m0s\u001b[0m 14ms/step - accuracy: 0.8126 - loss: 0.7116 - val_accuracy: 0.8190 - val_loss: 0.6368\n",
      "Epoch 12/100\n",
      "\u001b[1m9/9\u001b[0m \u001b[32m━━━━━━━━━━━━━━━━━━━━\u001b[0m\u001b[37m\u001b[0m \u001b[1m0s\u001b[0m 13ms/step - accuracy: 0.7801 - loss: 0.6893 - val_accuracy: 0.8190 - val_loss: 0.6214\n",
      "Epoch 13/100\n",
      "\u001b[1m9/9\u001b[0m \u001b[32m━━━━━━━━━━━━━━━━━━━━\u001b[0m\u001b[37m\u001b[0m \u001b[1m0s\u001b[0m 13ms/step - accuracy: 0.8814 - loss: 0.6514 - val_accuracy: 0.8190 - val_loss: 0.6064\n",
      "Epoch 14/100\n",
      "\u001b[1m9/9\u001b[0m \u001b[32m━━━━━━━━━━━━━━━━━━━━\u001b[0m\u001b[37m\u001b[0m \u001b[1m0s\u001b[0m 14ms/step - accuracy: 0.8101 - loss: 0.6339 - val_accuracy: 0.8190 - val_loss: 0.5923\n",
      "Epoch 15/100\n",
      "\u001b[1m9/9\u001b[0m \u001b[32m━━━━━━━━━━━━━━━━━━━━\u001b[0m\u001b[37m\u001b[0m \u001b[1m0s\u001b[0m 18ms/step - accuracy: 0.8459 - loss: 0.6088 - val_accuracy: 0.8190 - val_loss: 0.5781\n",
      "Epoch 16/100\n",
      "\u001b[1m9/9\u001b[0m \u001b[32m━━━━━━━━━━━━━━━━━━━━\u001b[0m\u001b[37m\u001b[0m \u001b[1m0s\u001b[0m 18ms/step - accuracy: 0.8063 - loss: 0.5812 - val_accuracy: 0.8190 - val_loss: 0.5642\n",
      "Epoch 17/100\n",
      "\u001b[1m9/9\u001b[0m \u001b[32m━━━━━━━━━━━━━━━━━━━━\u001b[0m\u001b[37m\u001b[0m \u001b[1m0s\u001b[0m 16ms/step - accuracy: 0.8939 - loss: 0.5237 - val_accuracy: 0.8381 - val_loss: 0.5513\n",
      "Epoch 18/100\n",
      "\u001b[1m9/9\u001b[0m \u001b[32m━━━━━━━━━━━━━━━━━━━━\u001b[0m\u001b[37m\u001b[0m \u001b[1m0s\u001b[0m 19ms/step - accuracy: 0.8424 - loss: 0.5755 - val_accuracy: 0.8381 - val_loss: 0.5391\n",
      "Epoch 19/100\n",
      "\u001b[1m9/9\u001b[0m \u001b[32m━━━━━━━━━━━━━━━━━━━━\u001b[0m\u001b[37m\u001b[0m \u001b[1m0s\u001b[0m 22ms/step - accuracy: 0.8669 - loss: 0.5239 - val_accuracy: 0.8381 - val_loss: 0.5274\n",
      "Epoch 20/100\n",
      "\u001b[1m9/9\u001b[0m \u001b[32m━━━━━━━━━━━━━━━━━━━━\u001b[0m\u001b[37m\u001b[0m \u001b[1m0s\u001b[0m 16ms/step - accuracy: 0.8181 - loss: 0.5175 - val_accuracy: 0.8476 - val_loss: 0.5162\n",
      "Epoch 21/100\n",
      "\u001b[1m9/9\u001b[0m \u001b[32m━━━━━━━━━━━━━━━━━━━━\u001b[0m\u001b[37m\u001b[0m \u001b[1m0s\u001b[0m 15ms/step - accuracy: 0.8578 - loss: 0.5378 - val_accuracy: 0.8476 - val_loss: 0.5060\n",
      "Epoch 22/100\n",
      "\u001b[1m9/9\u001b[0m \u001b[32m━━━━━━━━━━━━━━━━━━━━\u001b[0m\u001b[37m\u001b[0m \u001b[1m0s\u001b[0m 16ms/step - accuracy: 0.8920 - loss: 0.5390 - val_accuracy: 0.8476 - val_loss: 0.4959\n",
      "Epoch 23/100\n",
      "\u001b[1m9/9\u001b[0m \u001b[32m━━━━━━━━━━━━━━━━━━━━\u001b[0m\u001b[37m\u001b[0m \u001b[1m0s\u001b[0m 17ms/step - accuracy: 0.8681 - loss: 0.5183 - val_accuracy: 0.8476 - val_loss: 0.4857\n",
      "Epoch 24/100\n",
      "\u001b[1m9/9\u001b[0m \u001b[32m━━━━━━━━━━━━━━━━━━━━\u001b[0m\u001b[37m\u001b[0m \u001b[1m0s\u001b[0m 15ms/step - accuracy: 0.8591 - loss: 0.5396 - val_accuracy: 0.8571 - val_loss: 0.4766\n",
      "Epoch 25/100\n",
      "\u001b[1m9/9\u001b[0m \u001b[32m━━━━━━━━━━━━━━━━━━━━\u001b[0m\u001b[37m\u001b[0m \u001b[1m0s\u001b[0m 16ms/step - accuracy: 0.7589 - loss: 0.6044 - val_accuracy: 0.8571 - val_loss: 0.4677\n",
      "Epoch 26/100\n",
      "\u001b[1m9/9\u001b[0m \u001b[32m━━━━━━━━━━━━━━━━━━━━\u001b[0m\u001b[37m\u001b[0m \u001b[1m0s\u001b[0m 16ms/step - accuracy: 0.8837 - loss: 0.4219 - val_accuracy: 0.8571 - val_loss: 0.4588\n",
      "Epoch 27/100\n",
      "\u001b[1m9/9\u001b[0m \u001b[32m━━━━━━━━━━━━━━━━━━━━\u001b[0m\u001b[37m\u001b[0m \u001b[1m0s\u001b[0m 17ms/step - accuracy: 0.8725 - loss: 0.4579 - val_accuracy: 0.8571 - val_loss: 0.4506\n",
      "Epoch 28/100\n",
      "\u001b[1m9/9\u001b[0m \u001b[32m━━━━━━━━━━━━━━━━━━━━\u001b[0m\u001b[37m\u001b[0m \u001b[1m0s\u001b[0m 14ms/step - accuracy: 0.9269 - loss: 0.4714 - val_accuracy: 0.8571 - val_loss: 0.4425\n",
      "Epoch 29/100\n",
      "\u001b[1m9/9\u001b[0m \u001b[32m━━━━━━━━━━━━━━━━━━━━\u001b[0m\u001b[37m\u001b[0m \u001b[1m0s\u001b[0m 18ms/step - accuracy: 0.9018 - loss: 0.4341 - val_accuracy: 0.8571 - val_loss: 0.4349\n",
      "Epoch 30/100\n",
      "\u001b[1m9/9\u001b[0m \u001b[32m━━━━━━━━━━━━━━━━━━━━\u001b[0m\u001b[37m\u001b[0m \u001b[1m0s\u001b[0m 15ms/step - accuracy: 0.8697 - loss: 0.4995 - val_accuracy: 0.8571 - val_loss: 0.4277\n",
      "Epoch 31/100\n",
      "\u001b[1m9/9\u001b[0m \u001b[32m━━━━━━━━━━━━━━━━━━━━\u001b[0m\u001b[37m\u001b[0m \u001b[1m0s\u001b[0m 14ms/step - accuracy: 0.8477 - loss: 0.4920 - val_accuracy: 0.8571 - val_loss: 0.4205\n",
      "Epoch 32/100\n",
      "\u001b[1m9/9\u001b[0m \u001b[32m━━━━━━━━━━━━━━━━━━━━\u001b[0m\u001b[37m\u001b[0m \u001b[1m0s\u001b[0m 15ms/step - accuracy: 0.8445 - loss: 0.4319 - val_accuracy: 0.8571 - val_loss: 0.4137\n",
      "Epoch 33/100\n",
      "\u001b[1m9/9\u001b[0m \u001b[32m━━━━━━━━━━━━━━━━━━━━\u001b[0m\u001b[37m\u001b[0m \u001b[1m0s\u001b[0m 15ms/step - accuracy: 0.8921 - loss: 0.4578 - val_accuracy: 0.8571 - val_loss: 0.4071\n",
      "Epoch 34/100\n",
      "\u001b[1m9/9\u001b[0m \u001b[32m━━━━━━━━━━━━━━━━━━━━\u001b[0m\u001b[37m\u001b[0m \u001b[1m0s\u001b[0m 17ms/step - accuracy: 0.9719 - loss: 0.3694 - val_accuracy: 0.8571 - val_loss: 0.4008\n",
      "Epoch 35/100\n",
      "\u001b[1m9/9\u001b[0m \u001b[32m━━━━━━━━━━━━━━━━━━━━\u001b[0m\u001b[37m\u001b[0m \u001b[1m0s\u001b[0m 19ms/step - accuracy: 0.9240 - loss: 0.4009 - val_accuracy: 0.8571 - val_loss: 0.3948\n",
      "Epoch 36/100\n",
      "\u001b[1m9/9\u001b[0m \u001b[32m━━━━━━━━━━━━━━━━━━━━\u001b[0m\u001b[37m\u001b[0m \u001b[1m0s\u001b[0m 15ms/step - accuracy: 0.9317 - loss: 0.3420 - val_accuracy: 0.8667 - val_loss: 0.3891\n",
      "Epoch 37/100\n",
      "\u001b[1m9/9\u001b[0m \u001b[32m━━━━━━━━━━━━━━━━━━━━\u001b[0m\u001b[37m\u001b[0m \u001b[1m0s\u001b[0m 16ms/step - accuracy: 0.8833 - loss: 0.3906 - val_accuracy: 0.8667 - val_loss: 0.3834\n",
      "Epoch 38/100\n",
      "\u001b[1m9/9\u001b[0m \u001b[32m━━━━━━━━━━━━━━━━━━━━\u001b[0m\u001b[37m\u001b[0m \u001b[1m0s\u001b[0m 15ms/step - accuracy: 0.8831 - loss: 0.4116 - val_accuracy: 0.8667 - val_loss: 0.3782\n",
      "Epoch 39/100\n",
      "\u001b[1m9/9\u001b[0m \u001b[32m━━━━━━━━━━━━━━━━━━━━\u001b[0m\u001b[37m\u001b[0m \u001b[1m0s\u001b[0m 15ms/step - accuracy: 0.9327 - loss: 0.3163 - val_accuracy: 0.8667 - val_loss: 0.3733\n",
      "Epoch 40/100\n",
      "\u001b[1m9/9\u001b[0m \u001b[32m━━━━━━━━━━━━━━━━━━━━\u001b[0m\u001b[37m\u001b[0m \u001b[1m0s\u001b[0m 17ms/step - accuracy: 0.9530 - loss: 0.3529 - val_accuracy: 0.8667 - val_loss: 0.3682\n",
      "Epoch 41/100\n",
      "\u001b[1m9/9\u001b[0m \u001b[32m━━━━━━━━━━━━━━━━━━━━\u001b[0m\u001b[37m\u001b[0m \u001b[1m0s\u001b[0m 15ms/step - accuracy: 0.8721 - loss: 0.4246 - val_accuracy: 0.8762 - val_loss: 0.3633\n",
      "Epoch 42/100\n",
      "\u001b[1m9/9\u001b[0m \u001b[32m━━━━━━━━━━━━━━━━━━━━\u001b[0m\u001b[37m\u001b[0m \u001b[1m0s\u001b[0m 16ms/step - accuracy: 0.8992 - loss: 0.3259 - val_accuracy: 0.8762 - val_loss: 0.3588\n",
      "Epoch 43/100\n",
      "\u001b[1m9/9\u001b[0m \u001b[32m━━━━━━━━━━━━━━━━━━━━\u001b[0m\u001b[37m\u001b[0m \u001b[1m0s\u001b[0m 17ms/step - accuracy: 0.8971 - loss: 0.3748 - val_accuracy: 0.8762 - val_loss: 0.3544\n",
      "Epoch 44/100\n",
      "\u001b[1m9/9\u001b[0m \u001b[32m━━━━━━━━━━━━━━━━━━━━\u001b[0m\u001b[37m\u001b[0m \u001b[1m0s\u001b[0m 15ms/step - accuracy: 0.9501 - loss: 0.2965 - val_accuracy: 0.8762 - val_loss: 0.3502\n",
      "Epoch 45/100\n",
      "\u001b[1m9/9\u001b[0m \u001b[32m━━━━━━━━━━━━━━━━━━━━\u001b[0m\u001b[37m\u001b[0m \u001b[1m0s\u001b[0m 17ms/step - accuracy: 0.8561 - loss: 0.3514 - val_accuracy: 0.8762 - val_loss: 0.3461\n",
      "Epoch 46/100\n",
      "\u001b[1m9/9\u001b[0m \u001b[32m━━━━━━━━━━━━━━━━━━━━\u001b[0m\u001b[37m\u001b[0m \u001b[1m0s\u001b[0m 16ms/step - accuracy: 0.9719 - loss: 0.2586 - val_accuracy: 0.8762 - val_loss: 0.3422\n",
      "Epoch 47/100\n",
      "\u001b[1m9/9\u001b[0m \u001b[32m━━━━━━━━━━━━━━━━━━━━\u001b[0m\u001b[37m\u001b[0m \u001b[1m0s\u001b[0m 14ms/step - accuracy: 0.8961 - loss: 0.3437 - val_accuracy: 0.8762 - val_loss: 0.3381\n",
      "Epoch 48/100\n",
      "\u001b[1m9/9\u001b[0m \u001b[32m━━━━━━━━━━━━━━━━━━━━\u001b[0m\u001b[37m\u001b[0m \u001b[1m0s\u001b[0m 14ms/step - accuracy: 0.8961 - loss: 0.3446 - val_accuracy: 0.8762 - val_loss: 0.3342\n",
      "Epoch 49/100\n",
      "\u001b[1m9/9\u001b[0m \u001b[32m━━━━━━━━━━━━━━━━━━━━\u001b[0m\u001b[37m\u001b[0m \u001b[1m0s\u001b[0m 15ms/step - accuracy: 0.9542 - loss: 0.2693 - val_accuracy: 0.8762 - val_loss: 0.3305\n",
      "Epoch 50/100\n",
      "\u001b[1m9/9\u001b[0m \u001b[32m━━━━━━━━━━━━━━━━━━━━\u001b[0m\u001b[37m\u001b[0m \u001b[1m0s\u001b[0m 17ms/step - accuracy: 0.9536 - loss: 0.3055 - val_accuracy: 0.8762 - val_loss: 0.3269\n",
      "Epoch 51/100\n",
      "\u001b[1m9/9\u001b[0m \u001b[32m━━━━━━━━━━━━━━━━━━━━\u001b[0m\u001b[37m\u001b[0m \u001b[1m0s\u001b[0m 18ms/step - accuracy: 0.9371 - loss: 0.3126 - val_accuracy: 0.8762 - val_loss: 0.3231\n",
      "Epoch 52/100\n",
      "\u001b[1m9/9\u001b[0m \u001b[32m━━━━━━━━━━━━━━━━━━━━\u001b[0m\u001b[37m\u001b[0m \u001b[1m0s\u001b[0m 14ms/step - accuracy: 0.9701 - loss: 0.2156 - val_accuracy: 0.8762 - val_loss: 0.3196\n",
      "Epoch 53/100\n",
      "\u001b[1m9/9\u001b[0m \u001b[32m━━━━━━━━━━━━━━━━━━━━\u001b[0m\u001b[37m\u001b[0m \u001b[1m0s\u001b[0m 22ms/step - accuracy: 0.9343 - loss: 0.2818 - val_accuracy: 0.8762 - val_loss: 0.3164\n",
      "Epoch 54/100\n",
      "\u001b[1m9/9\u001b[0m \u001b[32m━━━━━━━━━━━━━━━━━━━━\u001b[0m\u001b[37m\u001b[0m \u001b[1m0s\u001b[0m 16ms/step - accuracy: 0.9103 - loss: 0.2829 - val_accuracy: 0.8857 - val_loss: 0.3132\n",
      "Epoch 55/100\n",
      "\u001b[1m9/9\u001b[0m \u001b[32m━━━━━━━━━━━━━━━━━━━━\u001b[0m\u001b[37m\u001b[0m \u001b[1m0s\u001b[0m 15ms/step - accuracy: 0.9019 - loss: 0.2705 - val_accuracy: 0.8857 - val_loss: 0.3102\n",
      "Epoch 56/100\n",
      "\u001b[1m9/9\u001b[0m \u001b[32m━━━━━━━━━━━━━━━━━━━━\u001b[0m\u001b[37m\u001b[0m \u001b[1m0s\u001b[0m 14ms/step - accuracy: 0.9226 - loss: 0.3087 - val_accuracy: 0.8857 - val_loss: 0.3071\n",
      "Epoch 57/100\n",
      "\u001b[1m9/9\u001b[0m \u001b[32m━━━━━━━━━━━━━━━━━━━━\u001b[0m\u001b[37m\u001b[0m \u001b[1m0s\u001b[0m 14ms/step - accuracy: 0.9121 - loss: 0.3458 - val_accuracy: 0.8857 - val_loss: 0.3043\n",
      "Epoch 58/100\n",
      "\u001b[1m9/9\u001b[0m \u001b[32m━━━━━━━━━━━━━━━━━━━━\u001b[0m\u001b[37m\u001b[0m \u001b[1m0s\u001b[0m 18ms/step - accuracy: 0.9726 - loss: 0.2025 - val_accuracy: 0.8857 - val_loss: 0.3017\n",
      "Epoch 59/100\n",
      "\u001b[1m9/9\u001b[0m \u001b[32m━━━━━━━━━━━━━━━━━━━━\u001b[0m\u001b[37m\u001b[0m \u001b[1m0s\u001b[0m 17ms/step - accuracy: 0.9053 - loss: 0.3376 - val_accuracy: 0.8857 - val_loss: 0.2986\n",
      "Epoch 60/100\n",
      "\u001b[1m9/9\u001b[0m \u001b[32m━━━━━━━━━━━━━━━━━━━━\u001b[0m\u001b[37m\u001b[0m \u001b[1m0s\u001b[0m 17ms/step - accuracy: 0.9343 - loss: 0.2742 - val_accuracy: 0.8857 - val_loss: 0.2958\n",
      "Epoch 61/100\n",
      "\u001b[1m9/9\u001b[0m \u001b[32m━━━━━━━━━━━━━━━━━━━━\u001b[0m\u001b[37m\u001b[0m \u001b[1m0s\u001b[0m 17ms/step - accuracy: 0.9211 - loss: 0.2525 - val_accuracy: 0.8952 - val_loss: 0.2932\n",
      "Epoch 62/100\n",
      "\u001b[1m9/9\u001b[0m \u001b[32m━━━━━━━━━━━━━━━━━━━━\u001b[0m\u001b[37m\u001b[0m \u001b[1m0s\u001b[0m 15ms/step - accuracy: 0.9293 - loss: 0.2208 - val_accuracy: 0.8952 - val_loss: 0.2908\n",
      "Epoch 63/100\n",
      "\u001b[1m9/9\u001b[0m \u001b[32m━━━━━━━━━━━━━━━━━━━━\u001b[0m\u001b[37m\u001b[0m \u001b[1m0s\u001b[0m 15ms/step - accuracy: 0.9483 - loss: 0.2267 - val_accuracy: 0.8952 - val_loss: 0.2882\n",
      "Epoch 64/100\n",
      "\u001b[1m9/9\u001b[0m \u001b[32m━━━━━━━━━━━━━━━━━━━━\u001b[0m\u001b[37m\u001b[0m \u001b[1m0s\u001b[0m 16ms/step - accuracy: 0.9171 - loss: 0.2500 - val_accuracy: 0.8952 - val_loss: 0.2859\n",
      "Epoch 65/100\n",
      "\u001b[1m9/9\u001b[0m \u001b[32m━━━━━━━━━━━━━━━━━━━━\u001b[0m\u001b[37m\u001b[0m \u001b[1m0s\u001b[0m 13ms/step - accuracy: 0.8853 - loss: 0.2552 - val_accuracy: 0.8952 - val_loss: 0.2834\n",
      "Epoch 66/100\n",
      "\u001b[1m9/9\u001b[0m \u001b[32m━━━━━━━━━━━━━━━━━━━━\u001b[0m\u001b[37m\u001b[0m \u001b[1m0s\u001b[0m 14ms/step - accuracy: 0.9319 - loss: 0.2008 - val_accuracy: 0.8952 - val_loss: 0.2813\n",
      "Epoch 67/100\n",
      "\u001b[1m9/9\u001b[0m \u001b[32m━━━━━━━━━━━━━━━━━━━━\u001b[0m\u001b[37m\u001b[0m \u001b[1m0s\u001b[0m 14ms/step - accuracy: 0.9636 - loss: 0.2143 - val_accuracy: 0.8952 - val_loss: 0.2790\n",
      "Epoch 68/100\n",
      "\u001b[1m9/9\u001b[0m \u001b[32m━━━━━━━━━━━━━━━━━━━━\u001b[0m\u001b[37m\u001b[0m \u001b[1m0s\u001b[0m 15ms/step - accuracy: 0.9445 - loss: 0.2356 - val_accuracy: 0.8952 - val_loss: 0.2769\n",
      "Epoch 69/100\n",
      "\u001b[1m9/9\u001b[0m \u001b[32m━━━━━━━━━━━━━━━━━━━━\u001b[0m\u001b[37m\u001b[0m \u001b[1m0s\u001b[0m 16ms/step - accuracy: 0.9359 - loss: 0.2264 - val_accuracy: 0.8952 - val_loss: 0.2747\n",
      "Epoch 70/100\n",
      "\u001b[1m9/9\u001b[0m \u001b[32m━━━━━━━━━━━━━━━━━━━━\u001b[0m\u001b[37m\u001b[0m \u001b[1m0s\u001b[0m 15ms/step - accuracy: 0.9842 - loss: 0.1838 - val_accuracy: 0.8952 - val_loss: 0.2728\n",
      "Epoch 71/100\n",
      "\u001b[1m9/9\u001b[0m \u001b[32m━━━━━━━━━━━━━━━━━━━━\u001b[0m\u001b[37m\u001b[0m \u001b[1m0s\u001b[0m 17ms/step - accuracy: 0.9549 - loss: 0.1883 - val_accuracy: 0.8952 - val_loss: 0.2707\n",
      "Epoch 72/100\n",
      "\u001b[1m9/9\u001b[0m \u001b[32m━━━━━━━━━━━━━━━━━━━━\u001b[0m\u001b[37m\u001b[0m \u001b[1m0s\u001b[0m 26ms/step - accuracy: 0.8736 - loss: 0.2439 - val_accuracy: 0.8952 - val_loss: 0.2685\n",
      "Epoch 73/100\n",
      "\u001b[1m9/9\u001b[0m \u001b[32m━━━━━━━━━━━━━━━━━━━━\u001b[0m\u001b[37m\u001b[0m \u001b[1m0s\u001b[0m 16ms/step - accuracy: 0.9956 - loss: 0.1488 - val_accuracy: 0.8952 - val_loss: 0.2666\n",
      "Epoch 74/100\n",
      "\u001b[1m9/9\u001b[0m \u001b[32m━━━━━━━━━━━━━━━━━━━━\u001b[0m\u001b[37m\u001b[0m \u001b[1m0s\u001b[0m 17ms/step - accuracy: 0.9829 - loss: 0.2214 - val_accuracy: 0.8952 - val_loss: 0.2643\n",
      "Epoch 75/100\n",
      "\u001b[1m9/9\u001b[0m \u001b[32m━━━━━━━━━━━━━━━━━━━━\u001b[0m\u001b[37m\u001b[0m \u001b[1m0s\u001b[0m 14ms/step - accuracy: 0.9956 - loss: 0.1908 - val_accuracy: 0.8952 - val_loss: 0.2627\n",
      "Epoch 76/100\n",
      "\u001b[1m9/9\u001b[0m \u001b[32m━━━━━━━━━━━━━━━━━━━━\u001b[0m\u001b[37m\u001b[0m \u001b[1m0s\u001b[0m 14ms/step - accuracy: 0.9612 - loss: 0.1794 - val_accuracy: 0.8952 - val_loss: 0.2608\n",
      "Epoch 77/100\n",
      "\u001b[1m9/9\u001b[0m \u001b[32m━━━━━━━━━━━━━━━━━━━━\u001b[0m\u001b[37m\u001b[0m \u001b[1m0s\u001b[0m 17ms/step - accuracy: 0.9931 - loss: 0.1723 - val_accuracy: 0.8952 - val_loss: 0.2590\n",
      "Epoch 78/100\n",
      "\u001b[1m9/9\u001b[0m \u001b[32m━━━━━━━━━━━━━━━━━━━━\u001b[0m\u001b[37m\u001b[0m \u001b[1m0s\u001b[0m 15ms/step - accuracy: 0.9869 - loss: 0.1921 - val_accuracy: 0.9048 - val_loss: 0.2570\n",
      "Epoch 79/100\n",
      "\u001b[1m9/9\u001b[0m \u001b[32m━━━━━━━━━━━━━━━━━━━━\u001b[0m\u001b[37m\u001b[0m \u001b[1m0s\u001b[0m 15ms/step - accuracy: 0.9931 - loss: 0.1792 - val_accuracy: 0.9048 - val_loss: 0.2553\n",
      "Epoch 80/100\n",
      "\u001b[1m9/9\u001b[0m \u001b[32m━━━━━━━━━━━━━━━━━━━━\u001b[0m\u001b[37m\u001b[0m \u001b[1m0s\u001b[0m 15ms/step - accuracy: 0.9779 - loss: 0.1605 - val_accuracy: 0.9048 - val_loss: 0.2534\n",
      "Epoch 81/100\n",
      "\u001b[1m9/9\u001b[0m \u001b[32m━━━━━━━━━━━━━━━━━━━━\u001b[0m\u001b[37m\u001b[0m \u001b[1m0s\u001b[0m 14ms/step - accuracy: 0.9412 - loss: 0.2024 - val_accuracy: 0.9048 - val_loss: 0.2517\n",
      "Epoch 82/100\n",
      "\u001b[1m9/9\u001b[0m \u001b[32m━━━━━━━━━━━━━━━━━━━━\u001b[0m\u001b[37m\u001b[0m \u001b[1m0s\u001b[0m 19ms/step - accuracy: 1.0000 - loss: 0.1738 - val_accuracy: 0.9048 - val_loss: 0.2499\n",
      "Epoch 83/100\n",
      "\u001b[1m9/9\u001b[0m \u001b[32m━━━━━━━━━━━━━━━━━━━━\u001b[0m\u001b[37m\u001b[0m \u001b[1m0s\u001b[0m 18ms/step - accuracy: 1.0000 - loss: 0.1891 - val_accuracy: 0.9048 - val_loss: 0.2481\n",
      "Epoch 84/100\n",
      "\u001b[1m9/9\u001b[0m \u001b[32m━━━━━━━━━━━━━━━━━━━━\u001b[0m\u001b[37m\u001b[0m \u001b[1m0s\u001b[0m 19ms/step - accuracy: 1.0000 - loss: 0.1388 - val_accuracy: 0.9048 - val_loss: 0.2465\n",
      "Epoch 85/100\n",
      "\u001b[1m9/9\u001b[0m \u001b[32m━━━━━━━━━━━━━━━━━━━━\u001b[0m\u001b[37m\u001b[0m \u001b[1m0s\u001b[0m 21ms/step - accuracy: 1.0000 - loss: 0.1564 - val_accuracy: 0.9048 - val_loss: 0.2448\n",
      "Epoch 86/100\n",
      "\u001b[1m9/9\u001b[0m \u001b[32m━━━━━━━━━━━━━━━━━━━━\u001b[0m\u001b[37m\u001b[0m \u001b[1m0s\u001b[0m 16ms/step - accuracy: 1.0000 - loss: 0.1188 - val_accuracy: 0.9048 - val_loss: 0.2431\n",
      "Epoch 87/100\n",
      "\u001b[1m9/9\u001b[0m \u001b[32m━━━━━━━━━━━━━━━━━━━━\u001b[0m\u001b[37m\u001b[0m \u001b[1m0s\u001b[0m 14ms/step - accuracy: 1.0000 - loss: 0.1357 - val_accuracy: 0.9048 - val_loss: 0.2413\n",
      "Epoch 88/100\n",
      "\u001b[1m9/9\u001b[0m \u001b[32m━━━━━━━━━━━━━━━━━━━━\u001b[0m\u001b[37m\u001b[0m \u001b[1m0s\u001b[0m 16ms/step - accuracy: 1.0000 - loss: 0.1513 - val_accuracy: 0.9048 - val_loss: 0.2397\n",
      "Epoch 89/100\n",
      "\u001b[1m9/9\u001b[0m \u001b[32m━━━━━━━━━━━━━━━━━━━━\u001b[0m\u001b[37m\u001b[0m \u001b[1m0s\u001b[0m 17ms/step - accuracy: 1.0000 - loss: 0.1321 - val_accuracy: 0.9048 - val_loss: 0.2380\n",
      "Epoch 90/100\n",
      "\u001b[1m9/9\u001b[0m \u001b[32m━━━━━━━━━━━━━━━━━━━━\u001b[0m\u001b[37m\u001b[0m \u001b[1m0s\u001b[0m 16ms/step - accuracy: 1.0000 - loss: 0.1728 - val_accuracy: 0.9048 - val_loss: 0.2362\n",
      "Epoch 91/100\n",
      "\u001b[1m9/9\u001b[0m \u001b[32m━━━━━━━━━━━━━━━━━━━━\u001b[0m\u001b[37m\u001b[0m \u001b[1m0s\u001b[0m 18ms/step - accuracy: 1.0000 - loss: 0.1525 - val_accuracy: 0.9048 - val_loss: 0.2348\n",
      "Epoch 92/100\n",
      "\u001b[1m9/9\u001b[0m \u001b[32m━━━━━━━━━━━━━━━━━━━━\u001b[0m\u001b[37m\u001b[0m \u001b[1m0s\u001b[0m 15ms/step - accuracy: 1.0000 - loss: 0.1184 - val_accuracy: 0.9048 - val_loss: 0.2333\n",
      "Epoch 93/100\n",
      "\u001b[1m9/9\u001b[0m \u001b[32m━━━━━━━━━━━━━━━━━━━━\u001b[0m\u001b[37m\u001b[0m \u001b[1m0s\u001b[0m 16ms/step - accuracy: 1.0000 - loss: 0.1370 - val_accuracy: 0.9048 - val_loss: 0.2318\n",
      "Epoch 94/100\n",
      "\u001b[1m9/9\u001b[0m \u001b[32m━━━━━━━━━━━━━━━━━━━━\u001b[0m\u001b[37m\u001b[0m \u001b[1m0s\u001b[0m 14ms/step - accuracy: 1.0000 - loss: 0.1512 - val_accuracy: 0.9048 - val_loss: 0.2302\n",
      "Epoch 95/100\n",
      "\u001b[1m9/9\u001b[0m \u001b[32m━━━━━━━━━━━━━━━━━━━━\u001b[0m\u001b[37m\u001b[0m \u001b[1m0s\u001b[0m 14ms/step - accuracy: 1.0000 - loss: 0.1733 - val_accuracy: 0.9048 - val_loss: 0.2287\n",
      "Epoch 96/100\n",
      "\u001b[1m9/9\u001b[0m \u001b[32m━━━━━━━━━━━━━━━━━━━━\u001b[0m\u001b[37m\u001b[0m \u001b[1m0s\u001b[0m 15ms/step - accuracy: 1.0000 - loss: 0.1223 - val_accuracy: 0.9048 - val_loss: 0.2276\n",
      "Epoch 97/100\n",
      "\u001b[1m9/9\u001b[0m \u001b[32m━━━━━━━━━━━━━━━━━━━━\u001b[0m\u001b[37m\u001b[0m \u001b[1m0s\u001b[0m 19ms/step - accuracy: 1.0000 - loss: 0.1661 - val_accuracy: 0.9048 - val_loss: 0.2261\n",
      "Epoch 98/100\n",
      "\u001b[1m9/9\u001b[0m \u001b[32m━━━━━━━━━━━━━━━━━━━━\u001b[0m\u001b[37m\u001b[0m \u001b[1m0s\u001b[0m 15ms/step - accuracy: 1.0000 - loss: 0.0995 - val_accuracy: 0.9048 - val_loss: 0.2248\n",
      "Epoch 99/100\n",
      "\u001b[1m9/9\u001b[0m \u001b[32m━━━━━━━━━━━━━━━━━━━━\u001b[0m\u001b[37m\u001b[0m \u001b[1m0s\u001b[0m 14ms/step - accuracy: 1.0000 - loss: 0.1225 - val_accuracy: 0.9048 - val_loss: 0.2235\n",
      "Epoch 100/100\n",
      "\u001b[1m9/9\u001b[0m \u001b[32m━━━━━━━━━━━━━━━━━━━━\u001b[0m\u001b[37m\u001b[0m \u001b[1m0s\u001b[0m 13ms/step - accuracy: 1.0000 - loss: 0.1391 - val_accuracy: 0.9048 - val_loss: 0.2222\n"
     ]
    }
   ],
   "source": [
    "history = model.fit(X_train, y_train_encoded, epochs=100, batch_size=5, validation_data=(X_test, y_test_encoded))"
   ]
  },
  {
   "cell_type": "markdown",
   "metadata": {},
   "source": [
    "#### Task 4"
   ]
  },
  {
   "cell_type": "markdown",
   "metadata": {},
   "source": [
    "Evaluate the model on the test set"
   ]
  },
  {
   "cell_type": "code",
   "execution_count": 54,
   "metadata": {},
   "outputs": [],
   "source": [
    "loss, accuracy = model.evaluate(X_test, y_test_encoded, verbose=0)"
   ]
  },
  {
   "cell_type": "markdown",
   "metadata": {},
   "source": [
    "Print the accuracy"
   ]
  },
  {
   "cell_type": "code",
   "execution_count": 55,
   "metadata": {},
   "outputs": [
    {
     "name": "stdout",
     "output_type": "stream",
     "text": [
      "Test Set Accuracy: 90.48%\n"
     ]
    }
   ],
   "source": [
    "print(f\"Test Set Accuracy: {accuracy * 100:.2f}%\")\n"
   ]
  }
 ],
 "metadata": {
  "kernelspec": {
   "display_name": "Python 3",
   "language": "python",
   "name": "python3"
  },
  "language_info": {
   "codemirror_mode": {
    "name": "ipython",
    "version": 3
   },
   "file_extension": ".py",
   "mimetype": "text/x-python",
   "name": "python",
   "nbconvert_exporter": "python",
   "pygments_lexer": "ipython3",
   "version": "3.12.6"
  }
 },
 "nbformat": 4,
 "nbformat_minor": 2
}
