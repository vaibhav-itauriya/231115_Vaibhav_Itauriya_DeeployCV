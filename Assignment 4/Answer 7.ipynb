{
 "cells": [
  {
   "cell_type": "markdown",
   "metadata": {},
   "source": [
    "## Answer 7\n",
    "### Model to Classify Iris Flowers"
   ]
  },
  {
   "cell_type": "markdown",
   "metadata": {},
   "source": [
    "#### Task 1 - Data Loading and Preprocessing:"
   ]
  },
  {
   "cell_type": "markdown",
   "metadata": {},
   "source": [
    "Importing required libraries"
   ]
  },
  {
   "cell_type": "code",
   "execution_count": 1,
   "metadata": {
    "ExecuteTime": {
     "end_time": "2024-12-28T18:08:49.256124Z",
     "start_time": "2024-12-28T18:08:49.199683Z"
    }
   },
   "outputs": [],
   "source": [
    "from sklearn.datasets import load_iris\n",
    "from sklearn.model_selection import train_test_split\n",
    "from sklearn.preprocessing import StandardScaler\n",
    "from tensorflow.keras.utils import to_categorical\n",
    "from tensorflow.keras.models import Sequential\n",
    "from tensorflow.keras.layers import Dense\n",
    "import pandas as pd\n",
    "import numpy as np"
   ]
  },
  {
   "cell_type": "markdown",
   "metadata": {},
   "source": [
    "Usign code snippet given in question to load iris dataset"
   ]
  },
  {
   "cell_type": "code",
   "execution_count": 2,
   "metadata": {},
   "outputs": [],
   "source": [
    "iris = load_iris()\n",
    "X = iris.data\n",
    "y = iris.target"
   ]
  },
  {
   "cell_type": "markdown",
   "metadata": {},
   "source": [
    "Visualize some samples"
   ]
  },
  {
   "cell_type": "markdown",
   "metadata": {},
   "source": [
    "Create a DataFrame"
   ]
  },
  {
   "cell_type": "code",
   "execution_count": 3,
   "metadata": {},
   "outputs": [],
   "source": [
    "iris_df = pd.DataFrame(\n",
    "    data=X, \n",
    "    columns=[\"Sepal Length (cm)\", \"Sepal Width (cm)\", \"Petal Length (cm)\", \"Petal Width (cm)\"]\n",
    ")\n",
    "iris_df[\"Class Label\"] = [iris.target_names[label] for label in y]"
   ]
  },
  {
   "cell_type": "markdown",
   "metadata": {},
   "source": [
    "Select 10 random samples to display"
   ]
  },
  {
   "cell_type": "code",
   "execution_count": 4,
   "metadata": {},
   "outputs": [],
   "source": [
    "random_samples = iris_df.sample(10, random_state=42)"
   ]
  },
  {
   "cell_type": "markdown",
   "metadata": {},
   "source": [
    "Display the table with styling"
   ]
  },
  {
   "cell_type": "code",
   "execution_count": 5,
   "metadata": {},
   "outputs": [
    {
     "data": {
      "text/html": [
       "<style type=\"text/css\">\n",
       "#T_0616b thead {\n",
       "  background-color: #4682B4;\n",
       "  color: white;\n",
       "  font-weight: bold;\n",
       "}\n",
       "#T_0616b_row0_col4, #T_0616b_row3_col4, #T_0616b_row4_col4, #T_0616b_row6_col4, #T_0616b_row8_col4, #T_0616b_row9_col4 {\n",
       "  background-color: #085e1f;\n",
       "}\n",
       "#T_0616b_row1_col4, #T_0616b_row5_col4 {\n",
       "  background-color: #969624;\n",
       "}\n",
       "#T_0616b_row2_col4, #T_0616b_row7_col4 {\n",
       "  background-color: #2d596b;\n",
       "}\n",
       "</style>\n",
       "<table id=\"T_0616b\">\n",
       "  <caption>Random Samples from Iris Dataset</caption>\n",
       "  <thead>\n",
       "    <tr>\n",
       "      <th class=\"blank level0\" >&nbsp;</th>\n",
       "      <th id=\"T_0616b_level0_col0\" class=\"col_heading level0 col0\" >Sepal Length (cm)</th>\n",
       "      <th id=\"T_0616b_level0_col1\" class=\"col_heading level0 col1\" >Sepal Width (cm)</th>\n",
       "      <th id=\"T_0616b_level0_col2\" class=\"col_heading level0 col2\" >Petal Length (cm)</th>\n",
       "      <th id=\"T_0616b_level0_col3\" class=\"col_heading level0 col3\" >Petal Width (cm)</th>\n",
       "      <th id=\"T_0616b_level0_col4\" class=\"col_heading level0 col4\" >Class Label</th>\n",
       "    </tr>\n",
       "  </thead>\n",
       "  <tbody>\n",
       "    <tr>\n",
       "      <th id=\"T_0616b_level0_row0\" class=\"row_heading level0 row0\" >73</th>\n",
       "      <td id=\"T_0616b_row0_col0\" class=\"data row0 col0\" >6.100000</td>\n",
       "      <td id=\"T_0616b_row0_col1\" class=\"data row0 col1\" >2.800000</td>\n",
       "      <td id=\"T_0616b_row0_col2\" class=\"data row0 col2\" >4.700000</td>\n",
       "      <td id=\"T_0616b_row0_col3\" class=\"data row0 col3\" >1.200000</td>\n",
       "      <td id=\"T_0616b_row0_col4\" class=\"data row0 col4\" >versicolor</td>\n",
       "    </tr>\n",
       "    <tr>\n",
       "      <th id=\"T_0616b_level0_row1\" class=\"row_heading level0 row1\" >18</th>\n",
       "      <td id=\"T_0616b_row1_col0\" class=\"data row1 col0\" >5.700000</td>\n",
       "      <td id=\"T_0616b_row1_col1\" class=\"data row1 col1\" >3.800000</td>\n",
       "      <td id=\"T_0616b_row1_col2\" class=\"data row1 col2\" >1.700000</td>\n",
       "      <td id=\"T_0616b_row1_col3\" class=\"data row1 col3\" >0.300000</td>\n",
       "      <td id=\"T_0616b_row1_col4\" class=\"data row1 col4\" >setosa</td>\n",
       "    </tr>\n",
       "    <tr>\n",
       "      <th id=\"T_0616b_level0_row2\" class=\"row_heading level0 row2\" >118</th>\n",
       "      <td id=\"T_0616b_row2_col0\" class=\"data row2 col0\" >7.700000</td>\n",
       "      <td id=\"T_0616b_row2_col1\" class=\"data row2 col1\" >2.600000</td>\n",
       "      <td id=\"T_0616b_row2_col2\" class=\"data row2 col2\" >6.900000</td>\n",
       "      <td id=\"T_0616b_row2_col3\" class=\"data row2 col3\" >2.300000</td>\n",
       "      <td id=\"T_0616b_row2_col4\" class=\"data row2 col4\" >virginica</td>\n",
       "    </tr>\n",
       "    <tr>\n",
       "      <th id=\"T_0616b_level0_row3\" class=\"row_heading level0 row3\" >78</th>\n",
       "      <td id=\"T_0616b_row3_col0\" class=\"data row3 col0\" >6.000000</td>\n",
       "      <td id=\"T_0616b_row3_col1\" class=\"data row3 col1\" >2.900000</td>\n",
       "      <td id=\"T_0616b_row3_col2\" class=\"data row3 col2\" >4.500000</td>\n",
       "      <td id=\"T_0616b_row3_col3\" class=\"data row3 col3\" >1.500000</td>\n",
       "      <td id=\"T_0616b_row3_col4\" class=\"data row3 col4\" >versicolor</td>\n",
       "    </tr>\n",
       "    <tr>\n",
       "      <th id=\"T_0616b_level0_row4\" class=\"row_heading level0 row4\" >76</th>\n",
       "      <td id=\"T_0616b_row4_col0\" class=\"data row4 col0\" >6.800000</td>\n",
       "      <td id=\"T_0616b_row4_col1\" class=\"data row4 col1\" >2.800000</td>\n",
       "      <td id=\"T_0616b_row4_col2\" class=\"data row4 col2\" >4.800000</td>\n",
       "      <td id=\"T_0616b_row4_col3\" class=\"data row4 col3\" >1.400000</td>\n",
       "      <td id=\"T_0616b_row4_col4\" class=\"data row4 col4\" >versicolor</td>\n",
       "    </tr>\n",
       "    <tr>\n",
       "      <th id=\"T_0616b_level0_row5\" class=\"row_heading level0 row5\" >31</th>\n",
       "      <td id=\"T_0616b_row5_col0\" class=\"data row5 col0\" >5.400000</td>\n",
       "      <td id=\"T_0616b_row5_col1\" class=\"data row5 col1\" >3.400000</td>\n",
       "      <td id=\"T_0616b_row5_col2\" class=\"data row5 col2\" >1.500000</td>\n",
       "      <td id=\"T_0616b_row5_col3\" class=\"data row5 col3\" >0.400000</td>\n",
       "      <td id=\"T_0616b_row5_col4\" class=\"data row5 col4\" >setosa</td>\n",
       "    </tr>\n",
       "    <tr>\n",
       "      <th id=\"T_0616b_level0_row6\" class=\"row_heading level0 row6\" >64</th>\n",
       "      <td id=\"T_0616b_row6_col0\" class=\"data row6 col0\" >5.600000</td>\n",
       "      <td id=\"T_0616b_row6_col1\" class=\"data row6 col1\" >2.900000</td>\n",
       "      <td id=\"T_0616b_row6_col2\" class=\"data row6 col2\" >3.600000</td>\n",
       "      <td id=\"T_0616b_row6_col3\" class=\"data row6 col3\" >1.300000</td>\n",
       "      <td id=\"T_0616b_row6_col4\" class=\"data row6 col4\" >versicolor</td>\n",
       "    </tr>\n",
       "    <tr>\n",
       "      <th id=\"T_0616b_level0_row7\" class=\"row_heading level0 row7\" >141</th>\n",
       "      <td id=\"T_0616b_row7_col0\" class=\"data row7 col0\" >6.900000</td>\n",
       "      <td id=\"T_0616b_row7_col1\" class=\"data row7 col1\" >3.100000</td>\n",
       "      <td id=\"T_0616b_row7_col2\" class=\"data row7 col2\" >5.100000</td>\n",
       "      <td id=\"T_0616b_row7_col3\" class=\"data row7 col3\" >2.300000</td>\n",
       "      <td id=\"T_0616b_row7_col4\" class=\"data row7 col4\" >virginica</td>\n",
       "    </tr>\n",
       "    <tr>\n",
       "      <th id=\"T_0616b_level0_row8\" class=\"row_heading level0 row8\" >68</th>\n",
       "      <td id=\"T_0616b_row8_col0\" class=\"data row8 col0\" >6.200000</td>\n",
       "      <td id=\"T_0616b_row8_col1\" class=\"data row8 col1\" >2.200000</td>\n",
       "      <td id=\"T_0616b_row8_col2\" class=\"data row8 col2\" >4.500000</td>\n",
       "      <td id=\"T_0616b_row8_col3\" class=\"data row8 col3\" >1.500000</td>\n",
       "      <td id=\"T_0616b_row8_col4\" class=\"data row8 col4\" >versicolor</td>\n",
       "    </tr>\n",
       "    <tr>\n",
       "      <th id=\"T_0616b_level0_row9\" class=\"row_heading level0 row9\" >82</th>\n",
       "      <td id=\"T_0616b_row9_col0\" class=\"data row9 col0\" >5.800000</td>\n",
       "      <td id=\"T_0616b_row9_col1\" class=\"data row9 col1\" >2.700000</td>\n",
       "      <td id=\"T_0616b_row9_col2\" class=\"data row9 col2\" >3.900000</td>\n",
       "      <td id=\"T_0616b_row9_col3\" class=\"data row9 col3\" >1.200000</td>\n",
       "      <td id=\"T_0616b_row9_col4\" class=\"data row9 col4\" >versicolor</td>\n",
       "    </tr>\n",
       "  </tbody>\n",
       "</table>\n"
      ],
      "text/plain": [
       "<pandas.io.formats.style.Styler at 0x1f49a6e36b0>"
      ]
     },
     "execution_count": 5,
     "metadata": {},
     "output_type": "execute_result"
    }
   ],
   "source": [
    "def highlight_class(row):\n",
    "    \"\"\"Highlight the class labels with specific colors.\"\"\"\n",
    "    color_map = {\n",
    "        \"setosa\": \"background-color: #969624;\",  # Gold\n",
    "        \"versicolor\": \"background-color: #085e1f;\",  # GreenYellow\n",
    "        \"virginica\": \"background-color: #2d596b;\"   # SkyBlue\n",
    "    }\n",
    "    return [color_map[row[\"Class Label\"]] if col == \"Class Label\" else \"\" for col in row.index]\n",
    "\n",
    "styled_table = random_samples.style.apply(highlight_class, axis=1)\n",
    "styled_table.set_table_styles(\n",
    "    [{'selector': 'thead', 'props': [('background-color', '#4682B4'), ('color', 'white'), ('font-weight', 'bold')]}]\n",
    ")\n",
    "styled_table.set_caption(\"Random Samples from Iris Dataset\")"
   ]
  },
  {
   "cell_type": "markdown",
   "metadata": {},
   "source": [
    "Split the dataset into training and testing sets (20% split)"
   ]
  },
  {
   "cell_type": "code",
   "execution_count": 6,
   "metadata": {},
   "outputs": [],
   "source": [
    "X_train, X_test, y_train, y_test = train_test_split(X, y, test_size=0.2, random_state=42)"
   ]
  },
  {
   "cell_type": "markdown",
   "metadata": {},
   "source": [
    "Perform feature scaling"
   ]
  },
  {
   "cell_type": "code",
   "execution_count": 7,
   "metadata": {},
   "outputs": [],
   "source": [
    "scaler = StandardScaler()\n",
    "X_train = scaler.fit_transform(X_train)\n",
    "X_test = scaler.transform(X_test)"
   ]
  },
  {
   "cell_type": "markdown",
   "metadata": {},
   "source": [
    "One-hot encode the target labels"
   ]
  },
  {
   "cell_type": "code",
   "execution_count": 8,
   "metadata": {},
   "outputs": [],
   "source": [
    "y_train_encoded = to_categorical(y_train)\n",
    "y_test_encoded = to_categorical(y_test)\n"
   ]
  },
  {
   "cell_type": "markdown",
   "metadata": {},
   "source": [
    "#### Task 2 -  Neural Network Construction:"
   ]
  },
  {
   "cell_type": "markdown",
   "metadata": {},
   "source": [
    "Build the neural network"
   ]
  },
  {
   "cell_type": "code",
   "execution_count": 9,
   "metadata": {},
   "outputs": [
    {
     "name": "stderr",
     "output_type": "stream",
     "text": [
      "c:\\Users\\vaibh\\AppData\\Local\\Programs\\Python\\Python312\\Lib\\site-packages\\keras\\src\\layers\\core\\dense.py:87: UserWarning: Do not pass an `input_shape`/`input_dim` argument to a layer. When using Sequential models, prefer using an `Input(shape)` object as the first layer in the model instead.\n",
      "  super().__init__(activity_regularizer=activity_regularizer, **kwargs)\n"
     ]
    }
   ],
   "source": [
    "model = Sequential([\n",
    "    Dense(8, input_dim=4, activation='relu'),  # Input layer with 4 features and hidden layer with 8 neurons\n",
    "    Dense(3, activation='softmax')            # Output layer with 3 neurons for classification\n",
    "])"
   ]
  },
  {
   "cell_type": "markdown",
   "metadata": {},
   "source": [
    "Compile the model"
   ]
  },
  {
   "cell_type": "code",
   "execution_count": 10,
   "metadata": {},
   "outputs": [],
   "source": [
    "model.compile(optimizer='adam', loss='categorical_crossentropy', metrics=['accuracy'])"
   ]
  },
  {
   "cell_type": "markdown",
   "metadata": {},
   "source": [
    "Summary of the model"
   ]
  },
  {
   "cell_type": "code",
   "execution_count": 11,
   "metadata": {},
   "outputs": [
    {
     "data": {
      "text/html": [
       "<pre style=\"white-space:pre;overflow-x:auto;line-height:normal;font-family:Menlo,'DejaVu Sans Mono',consolas,'Courier New',monospace\"><span style=\"font-weight: bold\">Model: \"sequential\"</span>\n",
       "</pre>\n"
      ],
      "text/plain": [
       "\u001b[1mModel: \"sequential\"\u001b[0m\n"
      ]
     },
     "metadata": {},
     "output_type": "display_data"
    },
    {
     "data": {
      "text/html": [
       "<pre style=\"white-space:pre;overflow-x:auto;line-height:normal;font-family:Menlo,'DejaVu Sans Mono',consolas,'Courier New',monospace\">┏━━━━━━━━━━━━━━━━━━━━━━━━━━━━━━━━━┳━━━━━━━━━━━━━━━━━━━━━━━━┳━━━━━━━━━━━━━━━┓\n",
       "┃<span style=\"font-weight: bold\"> Layer (type)                    </span>┃<span style=\"font-weight: bold\"> Output Shape           </span>┃<span style=\"font-weight: bold\">       Param # </span>┃\n",
       "┡━━━━━━━━━━━━━━━━━━━━━━━━━━━━━━━━━╇━━━━━━━━━━━━━━━━━━━━━━━━╇━━━━━━━━━━━━━━━┩\n",
       "│ dense (<span style=\"color: #0087ff; text-decoration-color: #0087ff\">Dense</span>)                   │ (<span style=\"color: #00d7ff; text-decoration-color: #00d7ff\">None</span>, <span style=\"color: #00af00; text-decoration-color: #00af00\">8</span>)              │            <span style=\"color: #00af00; text-decoration-color: #00af00\">40</span> │\n",
       "├─────────────────────────────────┼────────────────────────┼───────────────┤\n",
       "│ dense_1 (<span style=\"color: #0087ff; text-decoration-color: #0087ff\">Dense</span>)                 │ (<span style=\"color: #00d7ff; text-decoration-color: #00d7ff\">None</span>, <span style=\"color: #00af00; text-decoration-color: #00af00\">3</span>)              │            <span style=\"color: #00af00; text-decoration-color: #00af00\">27</span> │\n",
       "└─────────────────────────────────┴────────────────────────┴───────────────┘\n",
       "</pre>\n"
      ],
      "text/plain": [
       "┏━━━━━━━━━━━━━━━━━━━━━━━━━━━━━━━━━┳━━━━━━━━━━━━━━━━━━━━━━━━┳━━━━━━━━━━━━━━━┓\n",
       "┃\u001b[1m \u001b[0m\u001b[1mLayer (type)                   \u001b[0m\u001b[1m \u001b[0m┃\u001b[1m \u001b[0m\u001b[1mOutput Shape          \u001b[0m\u001b[1m \u001b[0m┃\u001b[1m \u001b[0m\u001b[1m      Param #\u001b[0m\u001b[1m \u001b[0m┃\n",
       "┡━━━━━━━━━━━━━━━━━━━━━━━━━━━━━━━━━╇━━━━━━━━━━━━━━━━━━━━━━━━╇━━━━━━━━━━━━━━━┩\n",
       "│ dense (\u001b[38;5;33mDense\u001b[0m)                   │ (\u001b[38;5;45mNone\u001b[0m, \u001b[38;5;34m8\u001b[0m)              │            \u001b[38;5;34m40\u001b[0m │\n",
       "├─────────────────────────────────┼────────────────────────┼───────────────┤\n",
       "│ dense_1 (\u001b[38;5;33mDense\u001b[0m)                 │ (\u001b[38;5;45mNone\u001b[0m, \u001b[38;5;34m3\u001b[0m)              │            \u001b[38;5;34m27\u001b[0m │\n",
       "└─────────────────────────────────┴────────────────────────┴───────────────┘\n"
      ]
     },
     "metadata": {},
     "output_type": "display_data"
    },
    {
     "data": {
      "text/html": [
       "<pre style=\"white-space:pre;overflow-x:auto;line-height:normal;font-family:Menlo,'DejaVu Sans Mono',consolas,'Courier New',monospace\"><span style=\"font-weight: bold\"> Total params: </span><span style=\"color: #00af00; text-decoration-color: #00af00\">67</span> (268.00 B)\n",
       "</pre>\n"
      ],
      "text/plain": [
       "\u001b[1m Total params: \u001b[0m\u001b[38;5;34m67\u001b[0m (268.00 B)\n"
      ]
     },
     "metadata": {},
     "output_type": "display_data"
    },
    {
     "data": {
      "text/html": [
       "<pre style=\"white-space:pre;overflow-x:auto;line-height:normal;font-family:Menlo,'DejaVu Sans Mono',consolas,'Courier New',monospace\"><span style=\"font-weight: bold\"> Trainable params: </span><span style=\"color: #00af00; text-decoration-color: #00af00\">67</span> (268.00 B)\n",
       "</pre>\n"
      ],
      "text/plain": [
       "\u001b[1m Trainable params: \u001b[0m\u001b[38;5;34m67\u001b[0m (268.00 B)\n"
      ]
     },
     "metadata": {},
     "output_type": "display_data"
    },
    {
     "data": {
      "text/html": [
       "<pre style=\"white-space:pre;overflow-x:auto;line-height:normal;font-family:Menlo,'DejaVu Sans Mono',consolas,'Courier New',monospace\"><span style=\"font-weight: bold\"> Non-trainable params: </span><span style=\"color: #00af00; text-decoration-color: #00af00\">0</span> (0.00 B)\n",
       "</pre>\n"
      ],
      "text/plain": [
       "\u001b[1m Non-trainable params: \u001b[0m\u001b[38;5;34m0\u001b[0m (0.00 B)\n"
      ]
     },
     "metadata": {},
     "output_type": "display_data"
    }
   ],
   "source": [
    "model.summary()"
   ]
  },
  {
   "cell_type": "markdown",
   "metadata": {},
   "source": [
    "#### Task 3 - Model Compilation and Training"
   ]
  },
  {
   "cell_type": "markdown",
   "metadata": {},
   "source": [
    "Compile the model"
   ]
  },
  {
   "cell_type": "code",
   "execution_count": 12,
   "metadata": {},
   "outputs": [],
   "source": [
    "model.compile(optimizer='adam', loss='categorical_crossentropy', metrics=['accuracy'])"
   ]
  },
  {
   "cell_type": "markdown",
   "metadata": {},
   "source": [
    "Train the model"
   ]
  },
  {
   "cell_type": "code",
   "execution_count": 13,
   "metadata": {},
   "outputs": [
    {
     "name": "stdout",
     "output_type": "stream",
     "text": [
      "Epoch 1/100\n",
      "\u001b[1m24/24\u001b[0m \u001b[32m━━━━━━━━━━━━━━━━━━━━\u001b[0m\u001b[37m\u001b[0m \u001b[1m1s\u001b[0m 13ms/step - accuracy: 0.0533 - loss: 1.2300 - val_accuracy: 0.0333 - val_loss: 1.1523\n",
      "Epoch 2/100\n",
      "\u001b[1m24/24\u001b[0m \u001b[32m━━━━━━━━━━━━━━━━━━━━\u001b[0m\u001b[37m\u001b[0m \u001b[1m0s\u001b[0m 5ms/step - accuracy: 0.0838 - loss: 1.1251 - val_accuracy: 0.1667 - val_loss: 1.0749\n",
      "Epoch 3/100\n",
      "\u001b[1m24/24\u001b[0m \u001b[32m━━━━━━━━━━━━━━━━━━━━\u001b[0m\u001b[37m\u001b[0m \u001b[1m0s\u001b[0m 7ms/step - accuracy: 0.2343 - loss: 1.0635 - val_accuracy: 0.4667 - val_loss: 1.0112\n",
      "Epoch 4/100\n",
      "\u001b[1m24/24\u001b[0m \u001b[32m━━━━━━━━━━━━━━━━━━━━\u001b[0m\u001b[37m\u001b[0m \u001b[1m0s\u001b[0m 8ms/step - accuracy: 0.4258 - loss: 0.9967 - val_accuracy: 0.5000 - val_loss: 0.9519\n",
      "Epoch 5/100\n",
      "\u001b[1m24/24\u001b[0m \u001b[32m━━━━━━━━━━━━━━━━━━━━\u001b[0m\u001b[37m\u001b[0m \u001b[1m0s\u001b[0m 10ms/step - accuracy: 0.4976 - loss: 0.9286 - val_accuracy: 0.5333 - val_loss: 0.9044\n",
      "Epoch 6/100\n",
      "\u001b[1m24/24\u001b[0m \u001b[32m━━━━━━━━━━━━━━━━━━━━\u001b[0m\u001b[37m\u001b[0m \u001b[1m0s\u001b[0m 11ms/step - accuracy: 0.5614 - loss: 0.9097 - val_accuracy: 0.5667 - val_loss: 0.8550\n",
      "Epoch 7/100\n",
      "\u001b[1m24/24\u001b[0m \u001b[32m━━━━━━━━━━━━━━━━━━━━\u001b[0m\u001b[37m\u001b[0m \u001b[1m0s\u001b[0m 9ms/step - accuracy: 0.6078 - loss: 0.8457 - val_accuracy: 0.7000 - val_loss: 0.8122\n",
      "Epoch 8/100\n",
      "\u001b[1m24/24\u001b[0m \u001b[32m━━━━━━━━━━━━━━━━━━━━\u001b[0m\u001b[37m\u001b[0m \u001b[1m0s\u001b[0m 11ms/step - accuracy: 0.6871 - loss: 0.7931 - val_accuracy: 0.7000 - val_loss: 0.7693\n",
      "Epoch 9/100\n",
      "\u001b[1m24/24\u001b[0m \u001b[32m━━━━━━━━━━━━━━━━━━━━\u001b[0m\u001b[37m\u001b[0m \u001b[1m0s\u001b[0m 12ms/step - accuracy: 0.6289 - loss: 0.8223 - val_accuracy: 0.7333 - val_loss: 0.7318\n",
      "Epoch 10/100\n",
      "\u001b[1m24/24\u001b[0m \u001b[32m━━━━━━━━━━━━━━━━━━━━\u001b[0m\u001b[37m\u001b[0m \u001b[1m0s\u001b[0m 10ms/step - accuracy: 0.6939 - loss: 0.7591 - val_accuracy: 0.7667 - val_loss: 0.6951\n",
      "Epoch 11/100\n",
      "\u001b[1m24/24\u001b[0m \u001b[32m━━━━━━━━━━━━━━━━━━━━\u001b[0m\u001b[37m\u001b[0m \u001b[1m0s\u001b[0m 11ms/step - accuracy: 0.7464 - loss: 0.6904 - val_accuracy: 0.8000 - val_loss: 0.6609\n",
      "Epoch 12/100\n",
      "\u001b[1m24/24\u001b[0m \u001b[32m━━━━━━━━━━━━━━━━━━━━\u001b[0m\u001b[37m\u001b[0m \u001b[1m0s\u001b[0m 11ms/step - accuracy: 0.7264 - loss: 0.7024 - val_accuracy: 0.8333 - val_loss: 0.6322\n",
      "Epoch 13/100\n",
      "\u001b[1m24/24\u001b[0m \u001b[32m━━━━━━━━━━━━━━━━━━━━\u001b[0m\u001b[37m\u001b[0m \u001b[1m0s\u001b[0m 8ms/step - accuracy: 0.7586 - loss: 0.6797 - val_accuracy: 0.8000 - val_loss: 0.6053\n",
      "Epoch 14/100\n",
      "\u001b[1m24/24\u001b[0m \u001b[32m━━━━━━━━━━━━━━━━━━━━\u001b[0m\u001b[37m\u001b[0m \u001b[1m0s\u001b[0m 5ms/step - accuracy: 0.7191 - loss: 0.6446 - val_accuracy: 0.8000 - val_loss: 0.5805\n",
      "Epoch 15/100\n",
      "\u001b[1m24/24\u001b[0m \u001b[32m━━━━━━━━━━━━━━━━━━━━\u001b[0m\u001b[37m\u001b[0m \u001b[1m0s\u001b[0m 7ms/step - accuracy: 0.8131 - loss: 0.5715 - val_accuracy: 0.8000 - val_loss: 0.5578\n",
      "Epoch 16/100\n",
      "\u001b[1m24/24\u001b[0m \u001b[32m━━━━━━━━━━━━━━━━━━━━\u001b[0m\u001b[37m\u001b[0m \u001b[1m0s\u001b[0m 10ms/step - accuracy: 0.7287 - loss: 0.6189 - val_accuracy: 0.8000 - val_loss: 0.5382\n",
      "Epoch 17/100\n",
      "\u001b[1m24/24\u001b[0m \u001b[32m━━━━━━━━━━━━━━━━━━━━\u001b[0m\u001b[37m\u001b[0m \u001b[1m0s\u001b[0m 9ms/step - accuracy: 0.7862 - loss: 0.6043 - val_accuracy: 0.8333 - val_loss: 0.5191\n",
      "Epoch 18/100\n",
      "\u001b[1m24/24\u001b[0m \u001b[32m━━━━━━━━━━━━━━━━━━━━\u001b[0m\u001b[37m\u001b[0m \u001b[1m0s\u001b[0m 9ms/step - accuracy: 0.8427 - loss: 0.5304 - val_accuracy: 0.8000 - val_loss: 0.5001\n",
      "Epoch 19/100\n",
      "\u001b[1m24/24\u001b[0m \u001b[32m━━━━━━━━━━━━━━━━━━━━\u001b[0m\u001b[37m\u001b[0m \u001b[1m0s\u001b[0m 9ms/step - accuracy: 0.7909 - loss: 0.5759 - val_accuracy: 0.8333 - val_loss: 0.4826\n",
      "Epoch 20/100\n",
      "\u001b[1m24/24\u001b[0m \u001b[32m━━━━━━━━━━━━━━━━━━━━\u001b[0m\u001b[37m\u001b[0m \u001b[1m0s\u001b[0m 12ms/step - accuracy: 0.7443 - loss: 0.5334 - val_accuracy: 0.8333 - val_loss: 0.4672\n",
      "Epoch 21/100\n",
      "\u001b[1m24/24\u001b[0m \u001b[32m━━━━━━━━━━━━━━━━━━━━\u001b[0m\u001b[37m\u001b[0m \u001b[1m0s\u001b[0m 11ms/step - accuracy: 0.8318 - loss: 0.5137 - val_accuracy: 0.8333 - val_loss: 0.4514\n",
      "Epoch 22/100\n",
      "\u001b[1m24/24\u001b[0m \u001b[32m━━━━━━━━━━━━━━━━━━━━\u001b[0m\u001b[37m\u001b[0m \u001b[1m0s\u001b[0m 10ms/step - accuracy: 0.8111 - loss: 0.4819 - val_accuracy: 0.8333 - val_loss: 0.4380\n",
      "Epoch 23/100\n",
      "\u001b[1m24/24\u001b[0m \u001b[32m━━━━━━━━━━━━━━━━━━━━\u001b[0m\u001b[37m\u001b[0m \u001b[1m0s\u001b[0m 10ms/step - accuracy: 0.7931 - loss: 0.5215 - val_accuracy: 0.8667 - val_loss: 0.4253\n",
      "Epoch 24/100\n",
      "\u001b[1m24/24\u001b[0m \u001b[32m━━━━━━━━━━━━━━━━━━━━\u001b[0m\u001b[37m\u001b[0m \u001b[1m0s\u001b[0m 7ms/step - accuracy: 0.8292 - loss: 0.4669 - val_accuracy: 0.8667 - val_loss: 0.4127\n",
      "Epoch 25/100\n",
      "\u001b[1m24/24\u001b[0m \u001b[32m━━━━━━━━━━━━━━━━━━━━\u001b[0m\u001b[37m\u001b[0m \u001b[1m0s\u001b[0m 7ms/step - accuracy: 0.8151 - loss: 0.4816 - val_accuracy: 0.8667 - val_loss: 0.4002\n",
      "Epoch 26/100\n",
      "\u001b[1m24/24\u001b[0m \u001b[32m━━━━━━━━━━━━━━━━━━━━\u001b[0m\u001b[37m\u001b[0m \u001b[1m0s\u001b[0m 7ms/step - accuracy: 0.8120 - loss: 0.4202 - val_accuracy: 0.8667 - val_loss: 0.3891\n",
      "Epoch 27/100\n",
      "\u001b[1m24/24\u001b[0m \u001b[32m━━━━━━━━━━━━━━━━━━━━\u001b[0m\u001b[37m\u001b[0m \u001b[1m0s\u001b[0m 10ms/step - accuracy: 0.8023 - loss: 0.4633 - val_accuracy: 0.8667 - val_loss: 0.3790\n",
      "Epoch 28/100\n",
      "\u001b[1m24/24\u001b[0m \u001b[32m━━━━━━━━━━━━━━━━━━━━\u001b[0m\u001b[37m\u001b[0m \u001b[1m0s\u001b[0m 6ms/step - accuracy: 0.7868 - loss: 0.4872 - val_accuracy: 0.8667 - val_loss: 0.3679\n",
      "Epoch 29/100\n",
      "\u001b[1m24/24\u001b[0m \u001b[32m━━━━━━━━━━━━━━━━━━━━\u001b[0m\u001b[37m\u001b[0m \u001b[1m0s\u001b[0m 6ms/step - accuracy: 0.8267 - loss: 0.4062 - val_accuracy: 0.8667 - val_loss: 0.3578\n",
      "Epoch 30/100\n",
      "\u001b[1m24/24\u001b[0m \u001b[32m━━━━━━━━━━━━━━━━━━━━\u001b[0m\u001b[37m\u001b[0m \u001b[1m0s\u001b[0m 5ms/step - accuracy: 0.8417 - loss: 0.4299 - val_accuracy: 0.8667 - val_loss: 0.3481\n",
      "Epoch 31/100\n",
      "\u001b[1m24/24\u001b[0m \u001b[32m━━━━━━━━━━━━━━━━━━━━\u001b[0m\u001b[37m\u001b[0m \u001b[1m0s\u001b[0m 5ms/step - accuracy: 0.8433 - loss: 0.3965 - val_accuracy: 0.8667 - val_loss: 0.3393\n",
      "Epoch 32/100\n",
      "\u001b[1m24/24\u001b[0m \u001b[32m━━━━━━━━━━━━━━━━━━━━\u001b[0m\u001b[37m\u001b[0m \u001b[1m0s\u001b[0m 6ms/step - accuracy: 0.8739 - loss: 0.3665 - val_accuracy: 0.8667 - val_loss: 0.3299\n",
      "Epoch 33/100\n",
      "\u001b[1m24/24\u001b[0m \u001b[32m━━━━━━━━━━━━━━━━━━━━\u001b[0m\u001b[37m\u001b[0m \u001b[1m0s\u001b[0m 6ms/step - accuracy: 0.7944 - loss: 0.4133 - val_accuracy: 0.8667 - val_loss: 0.3213\n",
      "Epoch 34/100\n",
      "\u001b[1m24/24\u001b[0m \u001b[32m━━━━━━━━━━━━━━━━━━━━\u001b[0m\u001b[37m\u001b[0m \u001b[1m0s\u001b[0m 7ms/step - accuracy: 0.8284 - loss: 0.3489 - val_accuracy: 0.8667 - val_loss: 0.3133\n",
      "Epoch 35/100\n",
      "\u001b[1m24/24\u001b[0m \u001b[32m━━━━━━━━━━━━━━━━━━━━\u001b[0m\u001b[37m\u001b[0m \u001b[1m0s\u001b[0m 6ms/step - accuracy: 0.8470 - loss: 0.3551 - val_accuracy: 0.9000 - val_loss: 0.3061\n",
      "Epoch 36/100\n",
      "\u001b[1m24/24\u001b[0m \u001b[32m━━━━━━━━━━━━━━━━━━━━\u001b[0m\u001b[37m\u001b[0m \u001b[1m0s\u001b[0m 8ms/step - accuracy: 0.8465 - loss: 0.3738 - val_accuracy: 0.9000 - val_loss: 0.2981\n",
      "Epoch 37/100\n",
      "\u001b[1m24/24\u001b[0m \u001b[32m━━━━━━━━━━━━━━━━━━━━\u001b[0m\u001b[37m\u001b[0m \u001b[1m0s\u001b[0m 7ms/step - accuracy: 0.8682 - loss: 0.3017 - val_accuracy: 0.9000 - val_loss: 0.2909\n",
      "Epoch 38/100\n",
      "\u001b[1m24/24\u001b[0m \u001b[32m━━━━━━━━━━━━━━━━━━━━\u001b[0m\u001b[37m\u001b[0m \u001b[1m0s\u001b[0m 6ms/step - accuracy: 0.7987 - loss: 0.3902 - val_accuracy: 0.9000 - val_loss: 0.2842\n",
      "Epoch 39/100\n",
      "\u001b[1m24/24\u001b[0m \u001b[32m━━━━━━━━━━━━━━━━━━━━\u001b[0m\u001b[37m\u001b[0m \u001b[1m0s\u001b[0m 9ms/step - accuracy: 0.8070 - loss: 0.3696 - val_accuracy: 0.9000 - val_loss: 0.2769\n",
      "Epoch 40/100\n",
      "\u001b[1m24/24\u001b[0m \u001b[32m━━━━━━━━━━━━━━━━━━━━\u001b[0m\u001b[37m\u001b[0m \u001b[1m0s\u001b[0m 11ms/step - accuracy: 0.8556 - loss: 0.3370 - val_accuracy: 0.9000 - val_loss: 0.2707\n",
      "Epoch 41/100\n",
      "\u001b[1m24/24\u001b[0m \u001b[32m━━━━━━━━━━━━━━━━━━━━\u001b[0m\u001b[37m\u001b[0m \u001b[1m0s\u001b[0m 10ms/step - accuracy: 0.8487 - loss: 0.3355 - val_accuracy: 0.9000 - val_loss: 0.2646\n",
      "Epoch 42/100\n",
      "\u001b[1m24/24\u001b[0m \u001b[32m━━━━━━━━━━━━━━━━━━━━\u001b[0m\u001b[37m\u001b[0m \u001b[1m0s\u001b[0m 9ms/step - accuracy: 0.8261 - loss: 0.3325 - val_accuracy: 0.9000 - val_loss: 0.2595\n",
      "Epoch 43/100\n",
      "\u001b[1m24/24\u001b[0m \u001b[32m━━━━━━━━━━━━━━━━━━━━\u001b[0m\u001b[37m\u001b[0m \u001b[1m0s\u001b[0m 10ms/step - accuracy: 0.8753 - loss: 0.2908 - val_accuracy: 0.9000 - val_loss: 0.2535\n",
      "Epoch 44/100\n",
      "\u001b[1m24/24\u001b[0m \u001b[32m━━━━━━━━━━━━━━━━━━━━\u001b[0m\u001b[37m\u001b[0m \u001b[1m0s\u001b[0m 8ms/step - accuracy: 0.8709 - loss: 0.2966 - val_accuracy: 0.9000 - val_loss: 0.2479\n",
      "Epoch 45/100\n",
      "\u001b[1m24/24\u001b[0m \u001b[32m━━━━━━━━━━━━━━━━━━━━\u001b[0m\u001b[37m\u001b[0m \u001b[1m0s\u001b[0m 10ms/step - accuracy: 0.8668 - loss: 0.3255 - val_accuracy: 0.9000 - val_loss: 0.2431\n",
      "Epoch 46/100\n",
      "\u001b[1m24/24\u001b[0m \u001b[32m━━━━━━━━━━━━━━━━━━━━\u001b[0m\u001b[37m\u001b[0m \u001b[1m0s\u001b[0m 7ms/step - accuracy: 0.8874 - loss: 0.3102 - val_accuracy: 0.9000 - val_loss: 0.2375\n",
      "Epoch 47/100\n",
      "\u001b[1m24/24\u001b[0m \u001b[32m━━━━━━━━━━━━━━━━━━━━\u001b[0m\u001b[37m\u001b[0m \u001b[1m0s\u001b[0m 6ms/step - accuracy: 0.8727 - loss: 0.3173 - val_accuracy: 0.9000 - val_loss: 0.2326\n",
      "Epoch 48/100\n",
      "\u001b[1m24/24\u001b[0m \u001b[32m━━━━━━━━━━━━━━━━━━━━\u001b[0m\u001b[37m\u001b[0m \u001b[1m0s\u001b[0m 6ms/step - accuracy: 0.8534 - loss: 0.3346 - val_accuracy: 0.9000 - val_loss: 0.2275\n",
      "Epoch 49/100\n",
      "\u001b[1m24/24\u001b[0m \u001b[32m━━━━━━━━━━━━━━━━━━━━\u001b[0m\u001b[37m\u001b[0m \u001b[1m0s\u001b[0m 6ms/step - accuracy: 0.8966 - loss: 0.2601 - val_accuracy: 0.9333 - val_loss: 0.2223\n",
      "Epoch 50/100\n",
      "\u001b[1m24/24\u001b[0m \u001b[32m━━━━━━━━━━━━━━━━━━━━\u001b[0m\u001b[37m\u001b[0m \u001b[1m0s\u001b[0m 8ms/step - accuracy: 0.9154 - loss: 0.2378 - val_accuracy: 0.9000 - val_loss: 0.2181\n",
      "Epoch 51/100\n",
      "\u001b[1m24/24\u001b[0m \u001b[32m━━━━━━━━━━━━━━━━━━━━\u001b[0m\u001b[37m\u001b[0m \u001b[1m0s\u001b[0m 9ms/step - accuracy: 0.9272 - loss: 0.2558 - val_accuracy: 0.9333 - val_loss: 0.2137\n",
      "Epoch 52/100\n",
      "\u001b[1m24/24\u001b[0m \u001b[32m━━━━━━━━━━━━━━━━━━━━\u001b[0m\u001b[37m\u001b[0m \u001b[1m0s\u001b[0m 9ms/step - accuracy: 0.9159 - loss: 0.2433 - val_accuracy: 0.9000 - val_loss: 0.2099\n",
      "Epoch 53/100\n",
      "\u001b[1m24/24\u001b[0m \u001b[32m━━━━━━━━━━━━━━━━━━━━\u001b[0m\u001b[37m\u001b[0m \u001b[1m0s\u001b[0m 9ms/step - accuracy: 0.9277 - loss: 0.2541 - val_accuracy: 0.9667 - val_loss: 0.2057\n",
      "Epoch 54/100\n",
      "\u001b[1m24/24\u001b[0m \u001b[32m━━━━━━━━━━━━━━━━━━━━\u001b[0m\u001b[37m\u001b[0m \u001b[1m0s\u001b[0m 7ms/step - accuracy: 0.9289 - loss: 0.2863 - val_accuracy: 0.9667 - val_loss: 0.2013\n",
      "Epoch 55/100\n",
      "\u001b[1m24/24\u001b[0m \u001b[32m━━━━━━━━━━━━━━━━━━━━\u001b[0m\u001b[37m\u001b[0m \u001b[1m0s\u001b[0m 9ms/step - accuracy: 0.9414 - loss: 0.2356 - val_accuracy: 0.9667 - val_loss: 0.1972\n",
      "Epoch 56/100\n",
      "\u001b[1m24/24\u001b[0m \u001b[32m━━━━━━━━━━━━━━━━━━━━\u001b[0m\u001b[37m\u001b[0m \u001b[1m0s\u001b[0m 8ms/step - accuracy: 0.9699 - loss: 0.2169 - val_accuracy: 0.9667 - val_loss: 0.1934\n",
      "Epoch 57/100\n",
      "\u001b[1m24/24\u001b[0m \u001b[32m━━━━━━━━━━━━━━━━━━━━\u001b[0m\u001b[37m\u001b[0m \u001b[1m0s\u001b[0m 10ms/step - accuracy: 0.9496 - loss: 0.1967 - val_accuracy: 0.9667 - val_loss: 0.1893\n",
      "Epoch 58/100\n",
      "\u001b[1m24/24\u001b[0m \u001b[32m━━━━━━━━━━━━━━━━━━━━\u001b[0m\u001b[37m\u001b[0m \u001b[1m0s\u001b[0m 9ms/step - accuracy: 0.9546 - loss: 0.2370 - val_accuracy: 1.0000 - val_loss: 0.1859\n",
      "Epoch 59/100\n",
      "\u001b[1m24/24\u001b[0m \u001b[32m━━━━━━━━━━━━━━━━━━━━\u001b[0m\u001b[37m\u001b[0m \u001b[1m0s\u001b[0m 9ms/step - accuracy: 0.9374 - loss: 0.2161 - val_accuracy: 1.0000 - val_loss: 0.1811\n",
      "Epoch 60/100\n",
      "\u001b[1m24/24\u001b[0m \u001b[32m━━━━━━━━━━━━━━━━━━━━\u001b[0m\u001b[37m\u001b[0m \u001b[1m0s\u001b[0m 9ms/step - accuracy: 0.9405 - loss: 0.1957 - val_accuracy: 1.0000 - val_loss: 0.1777\n",
      "Epoch 61/100\n",
      "\u001b[1m24/24\u001b[0m \u001b[32m━━━━━━━━━━━━━━━━━━━━\u001b[0m\u001b[37m\u001b[0m \u001b[1m0s\u001b[0m 6ms/step - accuracy: 0.9573 - loss: 0.2072 - val_accuracy: 1.0000 - val_loss: 0.1746\n",
      "Epoch 62/100\n",
      "\u001b[1m24/24\u001b[0m \u001b[32m━━━━━━━━━━━━━━━━━━━━\u001b[0m\u001b[37m\u001b[0m \u001b[1m0s\u001b[0m 7ms/step - accuracy: 0.9534 - loss: 0.2112 - val_accuracy: 1.0000 - val_loss: 0.1713\n",
      "Epoch 63/100\n",
      "\u001b[1m24/24\u001b[0m \u001b[32m━━━━━━━━━━━━━━━━━━━━\u001b[0m\u001b[37m\u001b[0m \u001b[1m0s\u001b[0m 7ms/step - accuracy: 0.9725 - loss: 0.1886 - val_accuracy: 1.0000 - val_loss: 0.1676\n",
      "Epoch 64/100\n",
      "\u001b[1m24/24\u001b[0m \u001b[32m━━━━━━━━━━━━━━━━━━━━\u001b[0m\u001b[37m\u001b[0m \u001b[1m0s\u001b[0m 7ms/step - accuracy: 0.9511 - loss: 0.2041 - val_accuracy: 1.0000 - val_loss: 0.1640\n",
      "Epoch 65/100\n",
      "\u001b[1m24/24\u001b[0m \u001b[32m━━━━━━━━━━━━━━━━━━━━\u001b[0m\u001b[37m\u001b[0m \u001b[1m0s\u001b[0m 7ms/step - accuracy: 0.9558 - loss: 0.1825 - val_accuracy: 1.0000 - val_loss: 0.1606\n",
      "Epoch 66/100\n",
      "\u001b[1m24/24\u001b[0m \u001b[32m━━━━━━━━━━━━━━━━━━━━\u001b[0m\u001b[37m\u001b[0m \u001b[1m0s\u001b[0m 6ms/step - accuracy: 0.9530 - loss: 0.1834 - val_accuracy: 1.0000 - val_loss: 0.1578\n",
      "Epoch 67/100\n",
      "\u001b[1m24/24\u001b[0m \u001b[32m━━━━━━━━━━━━━━━━━━━━\u001b[0m\u001b[37m\u001b[0m \u001b[1m0s\u001b[0m 7ms/step - accuracy: 0.9861 - loss: 0.1527 - val_accuracy: 1.0000 - val_loss: 0.1550\n",
      "Epoch 68/100\n",
      "\u001b[1m24/24\u001b[0m \u001b[32m━━━━━━━━━━━━━━━━━━━━\u001b[0m\u001b[37m\u001b[0m \u001b[1m0s\u001b[0m 6ms/step - accuracy: 0.9511 - loss: 0.1938 - val_accuracy: 1.0000 - val_loss: 0.1524\n",
      "Epoch 69/100\n",
      "\u001b[1m24/24\u001b[0m \u001b[32m━━━━━━━━━━━━━━━━━━━━\u001b[0m\u001b[37m\u001b[0m \u001b[1m0s\u001b[0m 5ms/step - accuracy: 0.9616 - loss: 0.1967 - val_accuracy: 1.0000 - val_loss: 0.1494\n",
      "Epoch 70/100\n",
      "\u001b[1m24/24\u001b[0m \u001b[32m━━━━━━━━━━━━━━━━━━━━\u001b[0m\u001b[37m\u001b[0m \u001b[1m0s\u001b[0m 5ms/step - accuracy: 0.9088 - loss: 0.2276 - val_accuracy: 1.0000 - val_loss: 0.1466\n",
      "Epoch 71/100\n",
      "\u001b[1m24/24\u001b[0m \u001b[32m━━━━━━━━━━━━━━━━━━━━\u001b[0m\u001b[37m\u001b[0m \u001b[1m0s\u001b[0m 5ms/step - accuracy: 0.9604 - loss: 0.1622 - val_accuracy: 1.0000 - val_loss: 0.1433\n",
      "Epoch 72/100\n",
      "\u001b[1m24/24\u001b[0m \u001b[32m━━━━━━━━━━━━━━━━━━━━\u001b[0m\u001b[37m\u001b[0m \u001b[1m0s\u001b[0m 5ms/step - accuracy: 0.9600 - loss: 0.1493 - val_accuracy: 1.0000 - val_loss: 0.1415\n",
      "Epoch 73/100\n",
      "\u001b[1m24/24\u001b[0m \u001b[32m━━━━━━━━━━━━━━━━━━━━\u001b[0m\u001b[37m\u001b[0m \u001b[1m0s\u001b[0m 6ms/step - accuracy: 0.9778 - loss: 0.1574 - val_accuracy: 1.0000 - val_loss: 0.1392\n",
      "Epoch 74/100\n",
      "\u001b[1m24/24\u001b[0m \u001b[32m━━━━━━━━━━━━━━━━━━━━\u001b[0m\u001b[37m\u001b[0m \u001b[1m0s\u001b[0m 6ms/step - accuracy: 0.9288 - loss: 0.2161 - val_accuracy: 1.0000 - val_loss: 0.1362\n",
      "Epoch 75/100\n",
      "\u001b[1m24/24\u001b[0m \u001b[32m━━━━━━━━━━━━━━━━━━━━\u001b[0m\u001b[37m\u001b[0m \u001b[1m0s\u001b[0m 6ms/step - accuracy: 0.9588 - loss: 0.1355 - val_accuracy: 1.0000 - val_loss: 0.1341\n",
      "Epoch 76/100\n",
      "\u001b[1m24/24\u001b[0m \u001b[32m━━━━━━━━━━━━━━━━━━━━\u001b[0m\u001b[37m\u001b[0m \u001b[1m0s\u001b[0m 5ms/step - accuracy: 0.9539 - loss: 0.1699 - val_accuracy: 1.0000 - val_loss: 0.1317\n",
      "Epoch 77/100\n",
      "\u001b[1m24/24\u001b[0m \u001b[32m━━━━━━━━━━━━━━━━━━━━\u001b[0m\u001b[37m\u001b[0m \u001b[1m0s\u001b[0m 6ms/step - accuracy: 0.9714 - loss: 0.1568 - val_accuracy: 1.0000 - val_loss: 0.1286\n",
      "Epoch 78/100\n",
      "\u001b[1m24/24\u001b[0m \u001b[32m━━━━━━━━━━━━━━━━━━━━\u001b[0m\u001b[37m\u001b[0m \u001b[1m0s\u001b[0m 5ms/step - accuracy: 0.9520 - loss: 0.1624 - val_accuracy: 1.0000 - val_loss: 0.1269\n",
      "Epoch 79/100\n",
      "\u001b[1m24/24\u001b[0m \u001b[32m━━━━━━━━━━━━━━━━━━━━\u001b[0m\u001b[37m\u001b[0m \u001b[1m0s\u001b[0m 5ms/step - accuracy: 0.9502 - loss: 0.1599 - val_accuracy: 1.0000 - val_loss: 0.1250\n",
      "Epoch 80/100\n",
      "\u001b[1m24/24\u001b[0m \u001b[32m━━━━━━━━━━━━━━━━━━━━\u001b[0m\u001b[37m\u001b[0m \u001b[1m0s\u001b[0m 6ms/step - accuracy: 0.9589 - loss: 0.1479 - val_accuracy: 1.0000 - val_loss: 0.1227\n",
      "Epoch 81/100\n",
      "\u001b[1m24/24\u001b[0m \u001b[32m━━━━━━━━━━━━━━━━━━━━\u001b[0m\u001b[37m\u001b[0m \u001b[1m0s\u001b[0m 6ms/step - accuracy: 0.9646 - loss: 0.1307 - val_accuracy: 1.0000 - val_loss: 0.1196\n",
      "Epoch 82/100\n",
      "\u001b[1m24/24\u001b[0m \u001b[32m━━━━━━━━━━━━━━━━━━━━\u001b[0m\u001b[37m\u001b[0m \u001b[1m0s\u001b[0m 5ms/step - accuracy: 0.9457 - loss: 0.1800 - val_accuracy: 1.0000 - val_loss: 0.1190\n",
      "Epoch 83/100\n",
      "\u001b[1m24/24\u001b[0m \u001b[32m━━━━━━━━━━━━━━━━━━━━\u001b[0m\u001b[37m\u001b[0m \u001b[1m0s\u001b[0m 5ms/step - accuracy: 0.9641 - loss: 0.1517 - val_accuracy: 1.0000 - val_loss: 0.1170\n",
      "Epoch 84/100\n",
      "\u001b[1m24/24\u001b[0m \u001b[32m━━━━━━━━━━━━━━━━━━━━\u001b[0m\u001b[37m\u001b[0m \u001b[1m0s\u001b[0m 5ms/step - accuracy: 0.9185 - loss: 0.1632 - val_accuracy: 1.0000 - val_loss: 0.1153\n",
      "Epoch 85/100\n",
      "\u001b[1m24/24\u001b[0m \u001b[32m━━━━━━━━━━━━━━━━━━━━\u001b[0m\u001b[37m\u001b[0m \u001b[1m0s\u001b[0m 5ms/step - accuracy: 0.9384 - loss: 0.1586 - val_accuracy: 1.0000 - val_loss: 0.1129\n",
      "Epoch 86/100\n",
      "\u001b[1m24/24\u001b[0m \u001b[32m━━━━━━━━━━━━━━━━━━━━\u001b[0m\u001b[37m\u001b[0m \u001b[1m0s\u001b[0m 7ms/step - accuracy: 0.9629 - loss: 0.1160 - val_accuracy: 1.0000 - val_loss: 0.1118\n",
      "Epoch 87/100\n",
      "\u001b[1m24/24\u001b[0m \u001b[32m━━━━━━━━━━━━━━━━━━━━\u001b[0m\u001b[37m\u001b[0m \u001b[1m0s\u001b[0m 6ms/step - accuracy: 0.9278 - loss: 0.1629 - val_accuracy: 1.0000 - val_loss: 0.1102\n",
      "Epoch 88/100\n",
      "\u001b[1m24/24\u001b[0m \u001b[32m━━━━━━━━━━━━━━━━━━━━\u001b[0m\u001b[37m\u001b[0m \u001b[1m0s\u001b[0m 6ms/step - accuracy: 0.9691 - loss: 0.1447 - val_accuracy: 1.0000 - val_loss: 0.1077\n",
      "Epoch 89/100\n",
      "\u001b[1m24/24\u001b[0m \u001b[32m━━━━━━━━━━━━━━━━━━━━\u001b[0m\u001b[37m\u001b[0m \u001b[1m0s\u001b[0m 6ms/step - accuracy: 0.9583 - loss: 0.1300 - val_accuracy: 1.0000 - val_loss: 0.1070\n",
      "Epoch 90/100\n",
      "\u001b[1m24/24\u001b[0m \u001b[32m━━━━━━━━━━━━━━━━━━━━\u001b[0m\u001b[37m\u001b[0m \u001b[1m0s\u001b[0m 6ms/step - accuracy: 0.9184 - loss: 0.1707 - val_accuracy: 1.0000 - val_loss: 0.1053\n",
      "Epoch 91/100\n",
      "\u001b[1m24/24\u001b[0m \u001b[32m━━━━━━━━━━━━━━━━━━━━\u001b[0m\u001b[37m\u001b[0m \u001b[1m0s\u001b[0m 6ms/step - accuracy: 0.9742 - loss: 0.1111 - val_accuracy: 1.0000 - val_loss: 0.1037\n",
      "Epoch 92/100\n",
      "\u001b[1m24/24\u001b[0m \u001b[32m━━━━━━━━━━━━━━━━━━━━\u001b[0m\u001b[37m\u001b[0m \u001b[1m0s\u001b[0m 5ms/step - accuracy: 0.9670 - loss: 0.1217 - val_accuracy: 1.0000 - val_loss: 0.1016\n",
      "Epoch 93/100\n",
      "\u001b[1m24/24\u001b[0m \u001b[32m━━━━━━━━━━━━━━━━━━━━\u001b[0m\u001b[37m\u001b[0m \u001b[1m0s\u001b[0m 5ms/step - accuracy: 0.9679 - loss: 0.1283 - val_accuracy: 1.0000 - val_loss: 0.1014\n",
      "Epoch 94/100\n",
      "\u001b[1m24/24\u001b[0m \u001b[32m━━━━━━━━━━━━━━━━━━━━\u001b[0m\u001b[37m\u001b[0m \u001b[1m0s\u001b[0m 5ms/step - accuracy: 0.9823 - loss: 0.1005 - val_accuracy: 1.0000 - val_loss: 0.0999\n",
      "Epoch 95/100\n",
      "\u001b[1m24/24\u001b[0m \u001b[32m━━━━━━━━━━━━━━━━━━━━\u001b[0m\u001b[37m\u001b[0m \u001b[1m0s\u001b[0m 5ms/step - accuracy: 0.9446 - loss: 0.1473 - val_accuracy: 1.0000 - val_loss: 0.0991\n",
      "Epoch 96/100\n",
      "\u001b[1m24/24\u001b[0m \u001b[32m━━━━━━━━━━━━━━━━━━━━\u001b[0m\u001b[37m\u001b[0m \u001b[1m0s\u001b[0m 5ms/step - accuracy: 0.9739 - loss: 0.1105 - val_accuracy: 1.0000 - val_loss: 0.0972\n",
      "Epoch 97/100\n",
      "\u001b[1m24/24\u001b[0m \u001b[32m━━━━━━━━━━━━━━━━━━━━\u001b[0m\u001b[37m\u001b[0m \u001b[1m0s\u001b[0m 5ms/step - accuracy: 0.9353 - loss: 0.1468 - val_accuracy: 1.0000 - val_loss: 0.0972\n",
      "Epoch 98/100\n",
      "\u001b[1m24/24\u001b[0m \u001b[32m━━━━━━━━━━━━━━━━━━━━\u001b[0m\u001b[37m\u001b[0m \u001b[1m0s\u001b[0m 5ms/step - accuracy: 0.9561 - loss: 0.1095 - val_accuracy: 1.0000 - val_loss: 0.0948\n",
      "Epoch 99/100\n",
      "\u001b[1m24/24\u001b[0m \u001b[32m━━━━━━━━━━━━━━━━━━━━\u001b[0m\u001b[37m\u001b[0m \u001b[1m0s\u001b[0m 5ms/step - accuracy: 0.9791 - loss: 0.1035 - val_accuracy: 1.0000 - val_loss: 0.0950\n",
      "Epoch 100/100\n",
      "\u001b[1m24/24\u001b[0m \u001b[32m━━━━━━━━━━━━━━━━━━━━\u001b[0m\u001b[37m\u001b[0m \u001b[1m0s\u001b[0m 5ms/step - accuracy: 0.9444 - loss: 0.1303 - val_accuracy: 1.0000 - val_loss: 0.0934\n"
     ]
    }
   ],
   "source": [
    "history = model.fit(X_train, y_train_encoded, epochs=100, batch_size=5, validation_data=(X_test, y_test_encoded))"
   ]
  },
  {
   "cell_type": "markdown",
   "metadata": {},
   "source": [
    "#### Task 4"
   ]
  },
  {
   "cell_type": "markdown",
   "metadata": {},
   "source": [
    "Evaluate the model on the test set"
   ]
  },
  {
   "cell_type": "code",
   "execution_count": 14,
   "metadata": {},
   "outputs": [],
   "source": [
    "loss, accuracy = model.evaluate(X_test, y_test_encoded, verbose=0)"
   ]
  },
  {
   "cell_type": "markdown",
   "metadata": {},
   "source": [
    "Print the accuracy"
   ]
  },
  {
   "cell_type": "code",
   "execution_count": 15,
   "metadata": {},
   "outputs": [
    {
     "name": "stdout",
     "output_type": "stream",
     "text": [
      "Test Set Accuracy: 100.00%\n"
     ]
    }
   ],
   "source": [
    "print(f\"Test Set Accuracy: {accuracy * 100:.2f}%\")\n"
   ]
  }
 ],
 "metadata": {
  "kernelspec": {
   "display_name": "Python 3",
   "language": "python",
   "name": "python3"
  },
  "language_info": {
   "codemirror_mode": {
    "name": "ipython",
    "version": 3
   },
   "file_extension": ".py",
   "mimetype": "text/x-python",
   "name": "python",
   "nbconvert_exporter": "python",
   "pygments_lexer": "ipython3",
   "version": "3.12.6"
  }
 },
 "nbformat": 4,
 "nbformat_minor": 2
}
