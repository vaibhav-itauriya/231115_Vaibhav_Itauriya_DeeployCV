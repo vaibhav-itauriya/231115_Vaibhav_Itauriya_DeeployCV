{
 "cells": [
  {
   "cell_type": "code",
   "execution_count": 1,
   "id": "45c77d619aac41c3",
   "metadata": {
    "ExecuteTime": {
     "end_time": "2024-12-13T13:36:21.361296Z",
     "start_time": "2024-12-13T13:36:21.319710Z"
    }
   },
   "outputs": [],
   "source": [
    "import numpy as np\n",
    "from PIL import Image"
   ]
  },
  {
   "cell_type": "code",
   "execution_count": 2,
   "id": "dd4df87d",
   "metadata": {
    "ExecuteTime": {
     "end_time": "2024-12-13T13:36:22.920186Z",
     "start_time": "2024-12-13T13:36:22.907030Z"
    }
   },
   "outputs": [],
   "source": [
    "# Step 1: Read the raw pixel data\n",
    "with open('soft_pillow.txt', 'r') as file:\n",
    "    raw_data = file.readlines()"
   ]
  },
  {
   "cell_type": "code",
   "execution_count": 3,
   "id": "48ceb8a6",
   "metadata": {
    "ExecuteTime": {
     "end_time": "2024-12-13T13:36:26.923700Z",
     "start_time": "2024-12-13T13:36:26.905701Z"
    }
   },
   "outputs": [],
   "source": [
    "# Step 2: Process the raw data into a NumPy array\n",
    "pixel_values = [int(value.strip()) for value in raw_data]"
   ]
  },
  {
   "cell_type": "code",
   "execution_count": 4,
   "id": "3957abe7",
   "metadata": {
    "ExecuteTime": {
     "end_time": "2024-12-13T13:36:28.613373Z",
     "start_time": "2024-12-13T13:36:28.605818Z"
    }
   },
   "outputs": [],
   "source": [
    "# Step 3: Calculate dimensions (assuming a square image, if no metadata available)\n",
    "size = len(pixel_values)  # Total number of pixels\n",
    "side_length = int(size ** 0.5)  # Compute square root to get dimensions\n",
    "\n",
    "if side_length * side_length != size:\n",
    "    raise ValueError(\"Cannot determine a square image from the data size. Check the dimensions or padding.\")\n",
    "\n",
    "array = np.array(pixel_values, dtype=np.uint8).reshape((side_length, side_length))"
   ]
  },
  {
   "cell_type": "code",
   "execution_count": 5,
   "id": "1b15736b",
   "metadata": {
    "ExecuteTime": {
     "end_time": "2024-12-13T13:36:30.410211Z",
     "start_time": "2024-12-13T13:36:30.406276Z"
    }
   },
   "outputs": [],
   "source": [
    "# Step 4: Convert the NumPy array to an image-like object\n",
    "image = Image.fromarray(array)"
   ]
  },
  {
   "cell_type": "code",
   "execution_count": 6,
   "id": "48e509e8",
   "metadata": {
    "ExecuteTime": {
     "end_time": "2024-12-13T13:36:31.987524Z",
     "start_time": "2024-12-13T13:36:31.916134Z"
    }
   },
   "outputs": [],
   "source": [
    "# Step 5: Save or display the image\n",
    "image.save('decoded_image.png')\n",
    "image.show()"
   ]
  },
  {
   "cell_type": "code",
   "execution_count": null,
   "id": "7fbb20a8",
   "metadata": {},
   "outputs": [],
   "source": []
  }
 ],
 "metadata": {
  "kernelspec": {
   "display_name": "Python 3",
   "language": "python",
   "name": "python3"
  },
  "language_info": {
   "codemirror_mode": {
    "name": "ipython",
    "version": 3
   },
   "file_extension": ".py",
   "mimetype": "text/x-python",
   "name": "python",
   "nbconvert_exporter": "python",
   "pygments_lexer": "ipython3",
   "version": "3.12.2"
  }
 },
 "nbformat": 5,
 "nbformat_minor": 9
}
